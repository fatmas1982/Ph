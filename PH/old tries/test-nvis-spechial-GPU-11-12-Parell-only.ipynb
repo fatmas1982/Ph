{
 "cells": [
  {
   "cell_type": "code",
   "execution_count": 2,
   "metadata": {
    "collapsed": false
   },
   "outputs": [],
   "source": [
    "#! /usr/bin/python3.5"
   ]
  },
  {
   "cell_type": "code",
   "execution_count": 5,
   "metadata": {
    "collapsed": false
   },
   "outputs": [
    {
     "name": "stderr",
     "output_type": "stream",
     "text": [
      "/usr/lib/python3.6/importlib/_bootstrap.py:219: RuntimeWarning: compiletime version 3.5 of module 'tensorflow.python.framework.fast_tensor_util' does not match runtime version 3.6\n",
      "  return f(*args, **kwds)\n"
     ]
    }
   ],
   "source": [
    "import os\n",
    "#import GPUtil as GPU\n",
    "import tensorflow as tf\n",
    "#import threading\n",
    "import timeit\n",
    "import time\n",
    "#from tensorflow import logging\n",
    "from tensorflow.python.client import timeline\n",
    "import multiprocessing\n",
    "#import logging\n",
    "from datetime import datetime "
   ]
  },
  {
   "cell_type": "code",
   "execution_count": 6,
   "metadata": {
    "collapsed": false
   },
   "outputs": [],
   "source": [
    "a=[\"A\",\"B\",\"C\",\"D\",\"hh\"]"
   ]
  },
  {
   "cell_type": "code",
   "execution_count": 7,
   "metadata": {
    "collapsed": false
   },
   "outputs": [],
   "source": [
    "def chunkIt(seq, num):\n",
    "   \n",
    "    avg = len(seq) / float(num)\n",
    "    out = []\n",
    "    last = 0.0\n",
    "    if num > 1:\n",
    "        while last < len(seq):\n",
    "            out.append(seq[int(last):int(last + avg)])\n",
    "            last += avg\n",
    "    else:\n",
    "        return seq\n",
    "\n",
    "    return out"
   ]
  },
  {
   "cell_type": "code",
   "execution_count": null,
   "metadata": {
    "collapsed": true
   },
   "outputs": [],
   "source": []
  },
  {
   "cell_type": "code",
   "execution_count": 8,
   "metadata": {
    "collapsed": false
   },
   "outputs": [],
   "source": [
    "#model(a,0)"
   ]
  },
  {
   "cell_type": "code",
   "execution_count": 9,
   "metadata": {
    "collapsed": false
   },
   "outputs": [],
   "source": [
    "from tensorflow.python.client import device_lib\n",
    "\n",
    "def get_available_gpus():\n",
    "    local_device_protos = device_lib.list_local_devices()\n",
    "    return [x.name for x in local_device_protos if x.device_type == 'GPU']\n",
    "    #return [x.name for x in local_device_protos]"
   ]
  },
  {
   "cell_type": "code",
   "execution_count": 10,
   "metadata": {
    "collapsed": true
   },
   "outputs": [],
   "source": [
    "import subprocess, re, os, sys #https://github.com/yaroslavvb/stuff/blob/master/notebook_util.py\n",
    "def run_command(cmd):\n",
    "    \"\"\"Run command, return output as string.\"\"\"\n",
    "    \n",
    "    output = subprocess.Popen(cmd, stdout=subprocess.PIPE, shell=True).communicate()[0]\n",
    "    return output.decode(\"ascii\")\n"
   ]
  },
  {
   "cell_type": "code",
   "execution_count": 11,
   "metadata": {
    "collapsed": true
   },
   "outputs": [],
   "source": [
    "def list_available_gpus():\n",
    "    \"\"\"Returns list of available GPU ids.\"\"\"\n",
    "    \n",
    "    output = run_command(\"nvidia-smi -L\")\n",
    "    # lines of the form GPU 0: TITAN X\n",
    "    gpu_regex = re.compile(r\"GPU (?P<gpu_id>\\d+):\")\n",
    "    result = []\n",
    "    for line in output.strip().split(\"\\n\"):\n",
    "        m = gpu_regex.match(line)\n",
    "        assert m, \"Couldnt parse \"+line\n",
    "        result.append(int(m.group(\"gpu_id\")))\n",
    "    return result"
   ]
  },
  {
   "cell_type": "code",
   "execution_count": 45,
   "metadata": {
    "collapsed": true
   },
   "outputs": [],
   "source": [
    "def gpu_memory_map(gpu_memory_file,gpu_output_file):\n",
    "    \"\"\"Returns map of GPU id to memory allocated on that GPU.\"\"\"\n",
    "\n",
    "    output = run_command(\"nvidia-smi\")\n",
    "    save_txt(output,gpu_output_file)\n",
    "    #print(\"nvidia-smi\",output)\n",
    "    gpu_output = output[output.find(\"GPU Memory\"):]\n",
    "    print(type(gpu_output))\n",
    "    #print(\"GPU Memory\",gpu_output.split(' '))\n",
    "    save_txt(gpu_output,gpu_memory_file)\n",
    "   \n",
    "    # lines of the form\n",
    "    # |    0      8734    C   python                                       11705MiB |\n",
    "    memory_regex = re.compile(r\"[|]\\s+?(?P<gpu_id>\\d+)\\D+?(?P<pid>\\d+).+[ ](?P<gpu_memory>\\d+)MiB\")\n",
    "    #print(\"memory_regex\",memory_regex)\n",
    "    rows = gpu_output.split(\"\\n\")\n",
    "    #print(\"rows\",rows)\n",
    "    result = {gpu_id: 0 for gpu_id in list_available_gpus()}\n",
    "    #print(\"result\",result)\n",
    "    for row in gpu_output.split(\"\\n\"):\n",
    "        print(row)\n",
    "        m = memory_regex.search(row)\n",
    "        if not m:\n",
    "            continue\n",
    "        gpu_id = int(m.group(\"gpu_id\"))\n",
    "        gpu_memory = int(m.group(\"gpu_memory\"))\n",
    "        pid=int(m.group(\"pid\"))\n",
    "        print(\"dddd\",pid)\n",
    "        result[gpu_id] += gpu_memory\n",
    "        #result[gpu_id] += pid\n",
    "    return result"
   ]
  },
  {
   "cell_type": "code",
   "execution_count": 47,
   "metadata": {
    "collapsed": false
   },
   "outputs": [
    {
     "name": "stdout",
     "output_type": "stream",
     "text": [
      "<class 'str'>\n",
      "GPU Memory |\n",
      "|  GPU       PID   Type   Process name                             Usage      |\n",
      "|=============================================================================|\n",
      "|    0                    Not Supported                                       |\n",
      "+-----------------------------------------------------------------------------+\n",
      "\n",
      "<class 'dict'>\n"
     ]
    }
   ],
   "source": []
  },
  {
   "cell_type": "code",
   "execution_count": 50,
   "metadata": {
    "collapsed": true
   },
   "outputs": [],
   "source": [
    "def gpu_process_id(i):\n",
    "    \"\"\"Returns map of GPU id to memory allocated on that GPU.\"\"\"\n",
    "\n",
    "    output = run_command(\"nvidia-smi\")\n",
    "    #save_txt(output,gpu_output_file)\n",
    "    #print(\"nvidia-smi\",output)\n",
    "    gpu_output = output[output.find(\"GPU Memory\"):]\n",
    "    print(type(gpu_output))\n",
    "    #print(\"GPU Memory\",gpu_output.split(' '))\n",
    "    #save_txt(gpu_output,gpu_memory_file)\n",
    "   \n",
    "    # lines of the form\n",
    "    # |    0      8734    C   python                                       11705MiB |\n",
    "    memory_regex = re.compile(r\"[|]\\s+?(?P<gpu_id>\\d+)\\D+?(?P<pid>\\d+).+[ ](?P<gpu_memory>\\d+)MiB\")\n",
    "    #print(\"memory_regex\",memory_regex)\n",
    "    rows = gpu_output.split(\"\\n\")\n",
    "    #print(\"rows\",rows)\n",
    "    result = {gpu_id: 0 for gpu_id in list_available_gpus()}\n",
    "    #print(\"result\",result)\n",
    "    for row in gpu_output.split(\"\\n\"):\n",
    "        print(row)\n",
    "        m = memory_regex.search(row)\n",
    "        if not m:\n",
    "            continue\n",
    "        gpu_id = int(m.group(\"gpu_id\"))\n",
    "        gpu_memory = int(m.group(\"gpu_memory\"))\n",
    "        pid=int(m.group(\"pid\"))\n",
    "        print(\"dddd\",pid)\n",
    "        #result[gpu_id] += gpu_memory\n",
    "        result[gpu_id] += pid\n",
    "    return result[i]"
   ]
  },
  {
   "cell_type": "code",
   "execution_count": 53,
   "metadata": {
    "collapsed": false
   },
   "outputs": [
    {
     "name": "stdout",
     "output_type": "stream",
     "text": [
      "<class 'str'>\n",
      "GPU Memory |\n",
      "|  GPU       PID   Type   Process name                             Usage      |\n",
      "|=============================================================================|\n",
      "|    0                    Not Supported                                       |\n",
      "+-----------------------------------------------------------------------------+\n",
      "\n",
      "<class 'int'>\n"
     ]
    }
   ],
   "source": [
    "#print(type(gpu_process_id(0)))"
   ]
  },
  {
   "cell_type": "code",
   "execution_count": 14,
   "metadata": {
    "collapsed": true
   },
   "outputs": [],
   "source": [
    "def save_txt(txt,file):\n",
    "    text_file = open(file, \"w\")\n",
    "    text_file.write(txt)\n",
    "    text_file.close()"
   ]
  },
  {
   "cell_type": "markdown",
   "metadata": {
    "collapsed": false
   },
   "source": [
    "# Model\n"
   ]
  },
  {
   "cell_type": "code",
   "execution_count": 14,
   "metadata": {
    "collapsed": true
   },
   "outputs": [],
   "source": [
    "def model_gpu(a_list,i,gpu_name):\n",
    "    with tf.device(gpu_name):\n",
    "        from datetime import datetime \n",
    "        startTime= datetime.now() \n",
    "        start = time.process_time()\n",
    "        print(\"************Start GPU Model*************\")\n",
    "\n",
    "\n",
    "        z=1000000000\n",
    "        c=0\n",
    "\n",
    "        for x in range(z):\n",
    "            c= x*2\n",
    "\n",
    "\n",
    "\n",
    "        print(\"list model\",a_list,i)\n",
    "\n",
    "\n",
    "\n",
    "\n",
    "        timeElapsed=datetime.now()-startTime \n",
    "        elapsed = (time.process_time() - start)\n",
    "        print('GPU Time elpased (hh:mm:ss.ms) {}'.format(timeElapsed))\n",
    "        print('GPU Time elpased (hh:mm:ss.ms) {}'.format(elapsed))\n",
    "        start_gpu_memory=gpu_memory_map(\"model_gpu\"+str(i)+\"_memory_end.txt\",\"model_gpu\"+str(i)+\"_memory_end.txt\")\n",
    "\n",
    "        save_txt(str(start_gpu_memory),\"model_gpu\"+str(i)+\"_end.txt\")\n",
    "   "
   ]
  },
  {
   "cell_type": "code",
   "execution_count": null,
   "metadata": {
    "collapsed": true
   },
   "outputs": [],
   "source": [
    "def session_process(a_list,i,gpu_name):\n",
    "    print(\"************In Session Process*************\")\n",
    "    #proc = os.getpid()\n",
    "    #print(\"Main Process ID:\",proc)\n",
    "    import multiprocessing\n",
    "    config = tf.ConfigProto(device_count={\"GPU\": 2,\"CPU\":1},\n",
    "                            allow_soft_placement=True,\n",
    "                            inter_op_parallelism_threads=16,\n",
    "                            intra_op_parallelism_threads=16,\n",
    "                            use_per_session_threads=True,\n",
    "                            log_device_placement=True)\n",
    "    config.gpu_options.allow_growth = True\n",
    "\n",
    "\n",
    "    \n",
    "    start_gpu_memory=gpu_memory_map(\"gpu_befor_session_memory.txt\",\"gpu_befor_session_out.txt\")\n",
    "\n",
    "    save_txt(str(start_gpu_memory),\"gpu_befor_session_memory_map.txt\")\n",
    "\n",
    "    print(\"gpu_memory_map\",start_gpu_memory)\n",
    "    startTime= datetime.now() \n",
    "    start = time.process_time()\n",
    "        \n",
    "\n",
    "    with tf.Session(config=config) as sess:\n",
    "        print(\"************Started Session Process*************\")\n",
    "        \n",
    "        sess.run(tf.global_variables_initializer())\n",
    "        start_gpu_memory=gpu_memory_map(\"gpu_after_start_session_memory.txt\",\"gpu_after_start_session_out.txt\")\n",
    "\n",
    "        save_txt(str(start_gpu_memory),\"gpu_after_start_session_memory_map.txt\")\n",
    "        \n",
    "        #with tf.device(gpu_name):\n",
    "            \n",
    "        start_gpu_memory=gpu_memory_map(\"gpu\"+str(i)+\"_memory_start.txt\",\"gpu\"+str(i)+\"_output_start.txt\")\n",
    "\n",
    "        save_txt(str(start_gpu_memory),\"gpu\"+str(i)+\"_memory_map.txt\")\n",
    "\n",
    "\n",
    "        model_gpu(a_list,i,gpu_name)\n",
    "\n",
    "\n",
    "\n",
    "        start_gpu_memory=gpu_memory_map(\"gpu_befor_end_session_memory.txt\",\"gpu_befor_end_session_out.txt\")\n",
    "\n",
    "        save_txt(str(start_gpu_memory),\"gpu_befor_end_session_memory_map.txt\")\n",
    "\n",
    "        sess.close()\n",
    "            \n",
    "    timeElapsed=datetime.now()-startTime \n",
    "    elapsed = (time.process_time() - start)\n",
    "    print('Session Time elpased (hh:mm:ss.ms) {}'.format(timeElapsed))\n",
    "    print('Session Time elpased (hh:mm:ss.ms) {}'.format(elapsed))\n",
    "    start_gpu_memory=gpu_memory_map(\"gpu_after_end_session_memory.txt\",\"gpu_after_end_session_out.txt\")\n",
    "\n",
    "    save_txt(str(start_gpu_memory),\"gpu_after_end_session_memory_map.txt\")\n",
    "    print(\"************Ended Session Process*************\")\n"
   ]
  },
  {
   "cell_type": "markdown",
   "metadata": {},
   "source": [
    "# Start Main Process"
   ]
  },
  {
   "cell_type": "code",
   "execution_count": null,
   "metadata": {
    "collapsed": true
   },
   "outputs": [],
   "source": [
    "start_gpu_memory=gpu_memory_map(\"Befor_Start_Process_session_memory.txt\",\"Befor_Start_Process_session_out.txt\")\n",
    "\n",
    "save_txt(str(start_gpu_memory),\"Befor_Start_Process_session_memory_map.txt\")\n",
    "\n",
    "\n",
    "GPU_LIST=get_available_gpus()\n",
    "print(\"GPU_LIST\",GPU_LIST)\n",
    "\n",
    "\n",
    "list_file_gpu=[]\n",
    "processes=[]\n",
    "\n",
    "\n",
    "list_file_gpu=chunkIt(a,len(GPU_LIST)) \n",
    "\n",
    "\n",
    "for i in range(len(GPU_LIST)):\n",
    "\n",
    "    proc = multiprocessing.Process(target=session_process, args=(list_file_gpu[i],i,GPU_LIST[i]))\n",
    "    processes.append(proc)\n",
    "\n",
    "\n",
    "#multiprocessing.log_to_stderr()\n",
    "#logger = multiprocessing.get_logger()\n",
    "#logger.setLevel(logging.INFO)\n",
    "# Run processes\n",
    "print(\"Will Start sub process\")\n",
    "\n",
    "for p in processes:\n",
    "\n",
    "    p.start()\n",
    "    #pids.append(str(p.pid))\n",
    "    print(\"Started PID:\",p.pid,\"P Name:\",p.name)\n",
    "\n",
    "# Exit the completed processes\n",
    "print(\"Will join sub process\")\n",
    "for p in processes:\n",
    "    p.join()      \n",
    "pids=[]\n",
    "for i in range(len(GPU_LIST)):\n",
    "    pids.append(str(gpu_process_id(i)))\n",
    "    \n",
    "    \n",
    "'''while 1:\n",
    "    \n",
    "    if processes[0].exitcode != None:\n",
    "        import os \n",
    "        os.system('kill -9 ' + pids[0])\n",
    "        start_gpu_memory=gpu_memory_map(\"After_kill_Process_\"+pids[0]+\".txt\",\"After_kill_Proces_\"+pids[0]+\".txt\")\n",
    "\n",
    "        save_txt(str(start_gpu_memory),\"After_Kill_Process_\"+pids[0]+\".txt\")\n",
    "        break\n",
    "                \n",
    "    \n",
    "while 1:\n",
    "    \n",
    "    if processes[1].exitcode != None:\n",
    "        import os \n",
    "        os.system('kill -9 ' + pids[1])\n",
    "        start_gpu_memory=gpu_memory_map(\"After_kill_Process_\"+pids[1]+\".txt\",\"After_kill_Proces_\"+pids[1]+\".txt\")\n",
    "\n",
    "        save_txt(str(start_gpu_memory),\"After_Kill_Process_\"+pids[1]+\".txt\")\n",
    "        break\n",
    "'''\n",
    "start_gpu_memory=gpu_memory_map(\"After_End_Process_session_memory.txt\",\"After_End_Process_session_out.txt\")\n",
    "\n",
    "save_txt(str(start_gpu_memory),\"After_End_Process_session_memory_map.txt\")\n"
   ]
  },
  {
   "cell_type": "code",
   "execution_count": null,
   "metadata": {
    "collapsed": false
   },
   "outputs": [],
   "source": []
  },
  {
   "cell_type": "code",
   "execution_count": null,
   "metadata": {
    "collapsed": true
   },
   "outputs": [],
   "source": []
  },
  {
   "cell_type": "code",
   "execution_count": null,
   "metadata": {
    "collapsed": true
   },
   "outputs": [],
   "source": []
  }
 ],
 "metadata": {
  "kernelspec": {
   "display_name": "Python 3",
   "language": "python",
   "name": "python3"
  },
  "language_info": {
   "codemirror_mode": {
    "name": "ipython",
    "version": 3
   },
   "file_extension": ".py",
   "mimetype": "text/x-python",
   "name": "python",
   "nbconvert_exporter": "python",
   "pygments_lexer": "ipython3",
   "version": "3.6.3"
  }
 },
 "nbformat": 4,
 "nbformat_minor": 2
}
