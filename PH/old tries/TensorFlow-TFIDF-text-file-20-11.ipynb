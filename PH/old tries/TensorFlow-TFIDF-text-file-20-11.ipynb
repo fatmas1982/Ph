{
 "cells": [
  {
   "cell_type": "code",
   "execution_count": null,
   "metadata": {
    "collapsed": true
   },
   "outputs": [],
   "source": [
    "#! /usr/bin/python3.5"
   ]
  },
  {
   "cell_type": "code",
   "execution_count": 1,
   "metadata": {
    "collapsed": false
   },
   "outputs": [],
   "source": [
    "import math\n",
    "\n",
    "import pandas as pd"
   ]
  },
  {
   "cell_type": "code",
   "execution_count": 2,
   "metadata": {
    "collapsed": false
   },
   "outputs": [],
   "source": [
    "import os\n",
    "dir_path = os.path.dirname(os.path.realpath(__file__))\n",
    "path_data_source=dir_path+\"/data/database/csv/\"\n",
    "#path_data_source=\"/home/fsg/Desktop/csv/\"\n",
    "sub_path_data_source_tf=\"sub_tf/\"\n",
    "sub_path_data_source_idf=\"sub_idf/\"\n",
    "sub_path_data_source_tfidf=\"sub_tfidf/\"\n",
    "\n",
    "file_path_tf=path_data_source+sub_path_data_source_tf\n",
    "file_path_idf=path_data_source+sub_path_data_source_idf\n",
    "\n",
    "file_names_tf = [os.path.join(file_path_tf, f) \n",
    "                      for f in os.listdir(file_path_tf) \n",
    "                      if f.endswith(\".csv\")]\n",
    "file_names_idf = [os.path.join(file_path_idf, f) \n",
    "                      for f in os.listdir(file_path_idf) \n",
    "                      if f.endswith(\".csv\")]"
   ]
  },
  {
   "cell_type": "code",
   "execution_count": 3,
   "metadata": {
    "collapsed": true
   },
   "outputs": [],
   "source": [
    "def read_cvs_by_pands(path_database,file_database,index_col, header):\n",
    "    import csv\n",
    "    import pandas as pd\n",
    "    return pd.read_csv(path_database+file_database,index_col=index_col,header=header)"
   ]
  },
  {
   "cell_type": "code",
   "execution_count": 4,
   "metadata": {
    "collapsed": true
   },
   "outputs": [],
   "source": [
    "def write_cvs_by_pands(path_database,file_database,header,data_rows):\n",
    "    import csv\n",
    "    import pandas as pd\n",
    "    csv_df=pd.DataFrame(data_rows,columns=header ) \n",
    "    csv_df.to_csv(path_database+file_database)"
   ]
  },
  {
   "cell_type": "code",
   "execution_count": 54,
   "metadata": {
    "collapsed": false
   },
   "outputs": [],
   "source": [
    "def read_sord_tf_file(path_data_source,sub_path_data_source_tf,i):\n",
    "    #df=read_cvs_by_pands(path_data_source,sub_path_data_source_tf+\"cs\"+str(i)+\".csv\",0,header=0)\n",
    "    print(path_data_source+sub_path_data_source_tf+i)\n",
    "    df=read_cvs_by_pands(path_data_source,sub_path_data_source_tf+i,0,header=0)\n",
    "    #ee.T.sort_index(inplace=True)\n",
    "    df = df.T.sort_index()\n",
    "    return df\n"
   ]
  },
  {
   "cell_type": "code",
   "execution_count": 55,
   "metadata": {
    "collapsed": false
   },
   "outputs": [],
   "source": [
    "def read_sord_idf_file(path_data_source,sub_path_data_source_idf,i):\n",
    "    #df=read_cvs_by_pands(path_data_source,sub_path_data_source_idf+\"cs\"+str(i)+\".csv\",0,header=0)\n",
    "    df=read_cvs_by_pands(path_data_source,sub_path_data_source_idf+i,0,header=0)\n",
    "    #ee.T.sort_index(inplace=True)\n",
    "    df = df.sort_index()\n",
    "    return df"
   ]
  },
  {
   "cell_type": "code",
   "execution_count": 56,
   "metadata": {
    "collapsed": false
   },
   "outputs": [],
   "source": [
    "def idf_df(df,D,base):\n",
    "    #[7/df['0']]\n",
    "    y = [log_idf(D,x,base) for x in df['0']]\n",
    "    return y"
   ]
  },
  {
   "cell_type": "code",
   "execution_count": 57,
   "metadata": {
    "collapsed": false
   },
   "outputs": [],
   "source": [
    "def log_idf(D,d,base):\n",
    "    return math.log((D/d), base)"
   ]
  },
  {
   "cell_type": "code",
   "execution_count": 58,
   "metadata": {
    "collapsed": false
   },
   "outputs": [],
   "source": [
    "def tf_idf_one(path_data_source,sub_path_data_source_tf,sub_path_data_source_idf,i,sub_path_data_source_tfidf):\n",
    "    df_tf=read_sord_tf_file(path_data_source,sub_path_data_source_tf,i)\n",
    "    df_idf=read_sord_idf_file(path_data_source,sub_path_data_source_idf,i)\n",
    "\n",
    "    if len(df_idf) != 0:\n",
    "        idf=idf_df(df_idf,len(df_idf),10)\n",
    "\n",
    "        full_tfidf=[]\n",
    "        for index in range(len(idf)):\n",
    "            #print(index)\n",
    "            tfidf=df_tf[0][index]*idf[index]\n",
    "            full_tfidf.append(tfidf)\n",
    "\n",
    "\n",
    "    df_tf_idf=pd.DataFrame(full_tfidf)\n",
    "    df_tf_idf.index=df_tf.index\n",
    "    #df_tf_idf.to_csv(path_data_source+sub_path_data_source_tfidf+\"cs\"+str(i)+\".csv\")\n",
    "    df_tf_idf.to_csv(path_data_source+sub_path_data_source_tfidf+i)\n",
    "    \n"
   ]
  },
  {
   "cell_type": "code",
   "execution_count": 59,
   "metadata": {
    "collapsed": true
   },
   "outputs": [],
   "source": [
    "def name_file(full_name_path):\n",
    "    d=full_name_path.split(\"/\")\n",
    "    #print(d)\n",
    "    name=d[len(d)-1]#.split(\".\")\n",
    "    return name"
   ]
  },
  {
   "cell_type": "code",
   "execution_count": 60,
   "metadata": {
    "collapsed": false
   },
   "outputs": [],
   "source": [
    "def tf_idfs(list_tf,list_idf):\n",
    "    for tf_file in list_tf:\n",
    "        tf_file_name=name_file(tf_file)\n",
    "        #print(tf_file_name)\n",
    "        for idf_file in list_idf:\n",
    "            idf_file_name=name_file(idf_file)\n",
    "            if tf_file_name == idf_file_name:\n",
    "                print(idf_file_name)\n",
    "                tf_idf_one(path_data_source,sub_path_data_source_tf,sub_path_data_source_idf,tf_file_name,sub_path_data_source_tfidf)\n",
    "            \n",
    "        \n",
    "        "
   ]
  },
  {
   "cell_type": "code",
   "execution_count": 61,
   "metadata": {
    "collapsed": false
   },
   "outputs": [
    {
     "name": "stdout",
     "output_type": "stream",
     "text": [
      "cs6.csv\n",
      "/home/fsg/Desktop/csv/sub_tf/cs6.csv\n",
      "cs1.csv\n",
      "/home/fsg/Desktop/csv/sub_tf/cs1.csv\n",
      "cs2.csv\n",
      "/home/fsg/Desktop/csv/sub_tf/cs2.csv\n",
      "cs4.csv\n",
      "/home/fsg/Desktop/csv/sub_tf/cs4.csv\n",
      "cs5.csv\n",
      "/home/fsg/Desktop/csv/sub_tf/cs5.csv\n",
      "cs3.csv\n",
      "/home/fsg/Desktop/csv/sub_tf/cs3.csv\n",
      "cs7.csv\n",
      "/home/fsg/Desktop/csv/sub_tf/cs7.csv\n"
     ]
    }
   ],
   "source": [
    "tf_idfs(file_names_tf,file_names_idf)"
   ]
  },
  {
   "cell_type": "code",
   "execution_count": 62,
   "metadata": {
    "collapsed": false
   },
   "outputs": [
    {
     "name": "stderr",
     "output_type": "stream",
     "text": [
      "/usr/lib/python3.6/importlib/_bootstrap.py:219: RuntimeWarning: compiletime version 3.5 of module 'tensorflow.python.framework.fast_tensor_util' does not match runtime version 3.6\n",
      "  return f(*args, **kwds)\n"
     ]
    },
    {
     "name": "stdout",
     "output_type": "stream",
     "text": [
      "cs6.csv\n",
      "/home/fsg/Desktop/csv/sub_tf/cs6.csv\n",
      "cs1.csv\n",
      "/home/fsg/Desktop/csv/sub_tf/cs1.csv\n",
      "cs2.csv\n",
      "/home/fsg/Desktop/csv/sub_tf/cs2.csv\n",
      "cs4.csv\n",
      "/home/fsg/Desktop/csv/sub_tf/cs4.csv\n",
      "cs5.csv\n",
      "/home/fsg/Desktop/csv/sub_tf/cs5.csv\n",
      "cs3.csv\n",
      "/home/fsg/Desktop/csv/sub_tf/cs3.csv\n",
      "cs7.csv\n",
      "/home/fsg/Desktop/csv/sub_tf/cs7.csv\n",
      "tttttttttttttt 0.08581921000040893\n"
     ]
    }
   ],
   "source": [
    "import os\n",
    "\n",
    "import tensorflow as tf\n",
    "import threading\n",
    "import timeit\n",
    "from tensorflow.python.client import timeline\n",
    "\n",
    "config = tf.ConfigProto(device_count={\"GPU\": 2,\"CPU\":1},\n",
    "                        allow_soft_placement=True,\n",
    "                        inter_op_parallelism_threads=16,\n",
    "                        intra_op_parallelism_threads=16,\n",
    "                        use_per_session_threads=True,\n",
    "                        log_device_placement=True)\n",
    "config.gpu_options.allow_growth = True\n",
    "\n",
    "\n",
    "with tf.Session(config=config) as sess:\n",
    "    sess.run(tf.global_variables_initializer())    \n",
    "    with tf.device('/gpu'):\n",
    "        start = timeit.default_timer()\n",
    "        tf_idfs(file_names_tf,file_names_idf)\n",
    "        #Your statements here\n",
    "\n",
    "        stop = timeit.default_timer()\n",
    "\n",
    "        print (\"tttttttttttttt\",stop - start )"
   ]
  },
  {
   "cell_type": "code",
   "execution_count": null,
   "metadata": {
    "collapsed": true
   },
   "outputs": [],
   "source": []
  },
  {
   "cell_type": "code",
   "execution_count": null,
   "metadata": {
    "collapsed": true
   },
   "outputs": [],
   "source": []
  }
 ],
 "metadata": {
  "kernelspec": {
   "display_name": "Python 3",
   "language": "python",
   "name": "python3"
  },
  "language_info": {
   "codemirror_mode": {
    "name": "ipython",
    "version": 3
   },
   "file_extension": ".py",
   "mimetype": "text/x-python",
   "name": "python",
   "nbconvert_exporter": "python",
   "pygments_lexer": "ipython3",
   "version": "3.6.3"
  }
 },
 "nbformat": 4,
 "nbformat_minor": 2
}
