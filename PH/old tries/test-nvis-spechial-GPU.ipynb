{
 "cells": [
  {
   "cell_type": "code",
   "execution_count": 2,
   "metadata": {
    "collapsed": false
   },
   "outputs": [],
   "source": [
    "#! /usr/bin/python3.5"
   ]
  },
  {
   "cell_type": "code",
   "execution_count": 3,
   "metadata": {
    "collapsed": false
   },
   "outputs": [],
   "source": [
    "a=[\"A\",\"B\",\"C\",\"D\",\"hh\"]"
   ]
  },
  {
   "cell_type": "code",
   "execution_count": 4,
   "metadata": {
    "collapsed": false
   },
   "outputs": [],
   "source": [
    "def chunkIt(seq, num):\n",
    "   \n",
    "    avg = len(seq) / float(num)\n",
    "    out = []\n",
    "    last = 0.0\n",
    "    if num > 1:\n",
    "        while last < len(seq):\n",
    "            out.append(seq[int(last):int(last + avg)])\n",
    "            last += avg\n",
    "    else:\n",
    "        return seq\n",
    "\n",
    "    return out"
   ]
  },
  {
   "cell_type": "code",
   "execution_count": 5,
   "metadata": {
    "collapsed": false
   },
   "outputs": [],
   "source": [
    "def model(a_list,i):\n",
    "    from datetime import datetime\n",
    "    start_time = datetime.now()\n",
    "    z=1000000000\n",
    "    c=0\n",
    "    if i !=0:\n",
    "        for x in range(z/i):\n",
    "            c= x*2\n",
    "    else:\n",
    "        for x in range(z):\n",
    "            c=x*2\n",
    "        \n",
    "            \n",
    "    print(\"list model\",a_list,i)\n",
    "    end_time = datetime.now()\n",
    "    print('Duration: {}'.format(end_time - start_time))\n",
    "\n",
    "\n",
    "    return c"
   ]
  },
  {
   "cell_type": "code",
   "execution_count": 6,
   "metadata": {
    "collapsed": false
   },
   "outputs": [],
   "source": [
    "#model(a,0)"
   ]
  },
  {
   "cell_type": "code",
   "execution_count": 7,
   "metadata": {
    "collapsed": false
   },
   "outputs": [],
   "source": [
    "from tensorflow.python.client import device_lib\n",
    "\n",
    "def get_available_gpus():\n",
    "    local_device_protos = device_lib.list_local_devices()\n",
    "    return [x.name for x in local_device_protos if x.device_type == 'GPU']\n",
    "    #return [x.name for x in local_device_protos]"
   ]
  },
  {
   "cell_type": "code",
   "execution_count": 8,
   "metadata": {
    "collapsed": true
   },
   "outputs": [],
   "source": [
    "import subprocess, re, os, sys #https://github.com/yaroslavvb/stuff/blob/master/notebook_util.py\n",
    "def run_command(cmd):\n",
    "    \"\"\"Run command, return output as string.\"\"\"\n",
    "    \n",
    "    output = subprocess.Popen(cmd, stdout=subprocess.PIPE, shell=True).communicate()[0]\n",
    "    return output.decode(\"ascii\")\n"
   ]
  },
  {
   "cell_type": "code",
   "execution_count": 9,
   "metadata": {
    "collapsed": true
   },
   "outputs": [],
   "source": [
    "def list_available_gpus():\n",
    "    \"\"\"Returns list of available GPU ids.\"\"\"\n",
    "    \n",
    "    output = run_command(\"nvidia-smi -L\")\n",
    "    # lines of the form GPU 0: TITAN X\n",
    "    gpu_regex = re.compile(r\"GPU (?P<gpu_id>\\d+):\")\n",
    "    result = []\n",
    "    for line in output.strip().split(\"\\n\"):\n",
    "        m = gpu_regex.match(line)\n",
    "        assert m, \"Couldnt parse \"+line\n",
    "        result.append(int(m.group(\"gpu_id\")))\n",
    "    return result"
   ]
  },
  {
   "cell_type": "code",
   "execution_count": 33,
   "metadata": {
    "collapsed": true
   },
   "outputs": [],
   "source": [
    "def gpu_memory_map(gpu_memory_file,gpu_output_file):\n",
    "    \"\"\"Returns map of GPU id to memory allocated on that GPU.\"\"\"\n",
    "\n",
    "    output = run_command(\"nvidia-smi\")\n",
    "    #print(\"nvidia-smi\",output)\n",
    "    gpu_output = output[output.find(\"GPU Memory\"):]\n",
    "    #print(\"GPU Memory\",gpu_output)\n",
    "    save_txt(gpu_output,gpu_memory_file)\n",
    "    save_txt(output,gpu_output_file)\n",
    "    # lines of the form\n",
    "    # |    0      8734    C   python                                       11705MiB |\n",
    "    memory_regex = re.compile(r\"[|]\\s+?(?P<gpu_id>\\d+)\\D+?(?P<pid>\\d+).+[ ](?P<gpu_memory>\\d+)MiB\")\n",
    "    #print(\"memory_regex\",memory_regex)\n",
    "    rows = gpu_output.split(\"\\n\")\n",
    "    #print(\"rows\",rows)\n",
    "    result = {gpu_id: 0 for gpu_id in list_available_gpus()}\n",
    "    #print(\"result\",result)\n",
    "    for row in gpu_output.split(\"\\n\"):\n",
    "        m = memory_regex.search(row)\n",
    "        if not m:\n",
    "            continue\n",
    "        gpu_id = int(m.group(\"gpu_id\"))\n",
    "        gpu_memory = int(m.group(\"gpu_memory\"))\n",
    "        result[gpu_id] += gpu_memory\n",
    "    return result"
   ]
  },
  {
   "cell_type": "code",
   "execution_count": 34,
   "metadata": {
    "collapsed": true
   },
   "outputs": [],
   "source": [
    "def save_txt(txt,file):\n",
    "    text_file = open(file, \"w\")\n",
    "    text_file.write(txt)\n",
    "    text_file.close()"
   ]
  },
  {
   "cell_type": "code",
   "execution_count": 37,
   "metadata": {
    "collapsed": false
   },
   "outputs": [
    {
     "name": "stdout",
     "output_type": "stream",
     "text": [
      "************Start ALL*************\n",
      "gpu_memory_map {0: 0}\n",
      "Start Time CPU 1512811945.765454 11.877256\n",
      "GPU_LIST []\n",
      "Start Time GPU 0 Time is  1512811945.766356 11.878584\n"
     ]
    },
    {
     "ename": "IndexError",
     "evalue": "list index out of range",
     "output_type": "error",
     "traceback": [
      "\u001b[0;31m---------------------------------------------------------------------------\u001b[0m",
      "\u001b[0;31mIndexError\u001b[0m                                Traceback (most recent call last)",
      "\u001b[0;32m<ipython-input-37-d11bdcc1aab3>\u001b[0m in \u001b[0;36m<module>\u001b[0;34m()\u001b[0m\n\u001b[1;32m     75\u001b[0m             \u001b[0mstart_oclock\u001b[0m\u001b[0;34m=\u001b[0m\u001b[0mtime\u001b[0m\u001b[0;34m.\u001b[0m\u001b[0mclock\u001b[0m\u001b[0;34m(\u001b[0m\u001b[0;34m)\u001b[0m\u001b[0;34m\u001b[0m\u001b[0m\n\u001b[1;32m     76\u001b[0m             \u001b[0mprint\u001b[0m\u001b[0;34m(\u001b[0m\u001b[0;34m\"Start Time GPU\"\u001b[0m\u001b[0;34m,\u001b[0m\u001b[0;36m0\u001b[0m\u001b[0;34m,\u001b[0m\u001b[0;34m\"Time is \"\u001b[0m\u001b[0;34m,\u001b[0m\u001b[0mstart_time\u001b[0m\u001b[0;34m,\u001b[0m\u001b[0mstart_oclock\u001b[0m\u001b[0;34m)\u001b[0m\u001b[0;34m\u001b[0m\u001b[0m\n\u001b[0;32m---> 77\u001b[0;31m             \u001b[0;32mwith\u001b[0m \u001b[0mtf\u001b[0m\u001b[0;34m.\u001b[0m\u001b[0mdevice\u001b[0m\u001b[0;34m(\u001b[0m\u001b[0mGPU_LIST\u001b[0m\u001b[0;34m[\u001b[0m\u001b[0;36m0\u001b[0m\u001b[0;34m]\u001b[0m\u001b[0;34m)\u001b[0m\u001b[0;34m:\u001b[0m\u001b[0;34m\u001b[0m\u001b[0m\n\u001b[0m\u001b[1;32m     78\u001b[0m \u001b[0;34m\u001b[0m\u001b[0m\n\u001b[1;32m     79\u001b[0m                 \u001b[0;31m#gpu_full_process(file_names,path_data_base,path_tf,path_non_redundant,path_idf,file_path_sim)\u001b[0m\u001b[0;34m\u001b[0m\u001b[0;34m\u001b[0m\u001b[0m\n",
      "\u001b[0;31mIndexError\u001b[0m: list index out of range"
     ]
    }
   ],
   "source": [
    "\n",
    "import os\n",
    "#import GPUtil as GPU\n",
    "import tensorflow as tf\n",
    "#import threading\n",
    "import timeit\n",
    "import time\n",
    "#from tensorflow import logging\n",
    "from tensorflow.python.client import timeline\n",
    "#os.environ['TF_CPP_MIN_VLOG_LEVEL']='3'\n",
    "#os.environ['TF_CPP_MIN_LOG_LEVEL'] = '3'\n",
    "#logging.set_verbosity(logging.INFO)\n",
    "#logging.vlog(1, \"Registering %s (%s) in %s.\", name, candidate, self._name)\n",
    "\n",
    "config = tf.ConfigProto(device_count={\"GPU\": 2,\"CPU\":1},\n",
    "                        allow_soft_placement=True,\n",
    "                        inter_op_parallelism_threads=16,\n",
    "                        intra_op_parallelism_threads=16,\n",
    "                        use_per_session_threads=True,\n",
    "                        log_device_placement=True)\n",
    "config.gpu_options.allow_growth = True\n",
    "\n",
    "#run_options = tf.RunOptions(trace_level=tf.RunOptions.FULL_TRACE)\n",
    "#run_metadata = tf.RunMetadata()\n",
    "print(\"************Start ALL*************\")\n",
    "start_gpu_memory=gpu_memory_map(\"gpu_memory_start.txt\",\"gpu_out_start.txt\")\n",
    "\n",
    "save_txt(str(start_gpu_memory),\"start_gpu_memory.txt\")\n",
    "#print(type(start_gpu_memory))\n",
    "print(\"gpu_memory_map\",start_gpu_memory)\n",
    "#GPU.showUtilization(all=True)\n",
    "#print(\"Start GPU\",run_command(\"nvidia-smi -a\"))\n",
    "#import setGPU\n",
    "#print(\"setGPU.stats\",setGPU.stats)\n",
    "with tf.Session(config=config) as sess:\n",
    "    sess.run(tf.global_variables_initializer())\n",
    "    GPU_LIST=[]\n",
    "    list_file_gpu=[]\n",
    "    import os\n",
    "    #os.environ['CUDA_VISIBLE_DEVICES'] = \"0,1\"\n",
    "    with tf.device('/cpu'):\n",
    "       \n",
    "        #print(\"setGPU.bestGPU\",setGPU.bestGPU)\n",
    "        #print(\"setGPU.ratios\",setGPU.ratios)\n",
    "        #print(\"setGPU.ids\",setGPU.ids)\n",
    "        CPU_Start_Time=time.time()\n",
    "        CPU_Start_Clock=time.clock()\n",
    "        print(\"Start Time CPU\",CPU_Start_Time, CPU_Start_Clock)\n",
    "        start = timeit.default_timer()\n",
    "        GPU_LIST=get_available_gpus()\n",
    "        print(\"GPU_LIST\",GPU_LIST)\n",
    "        if len(GPU_LIST) > 1:\n",
    "            list_file_gpu=chunkIt(a,len(GPU_LIST))\n",
    "            for i in range(len(GPU_LIST)):\n",
    "                start_time=time.time()\n",
    "                start_oclock=time.clock()\n",
    "                print(\"Start Time GPU\",i,\"Time is \",start_time,start_oclock)\n",
    "                with tf.device(GPU_LIST[i]):\n",
    "\n",
    "                    #gpu_full_process(file_names,path_data_base,path_tf,path_non_redundant,path_idf,file_path_sim)\n",
    "                    #Your statements here\n",
    "                    print(\"In GPU Dev\",i)\n",
    "                    model(list_file_gpu[i],i)\n",
    "                end_time=time.time()\n",
    "                end_oclock=time.clock()\n",
    "                print(\"End Time GPU\",i,\"Time is \",end_time,end_oclock)\n",
    "                total_time_GPU=end_time-start_time\n",
    "                total_clock_GPU=end_oclock-start_oclock\n",
    "                print(\"total_time_GPU\",total_time_GPU)\n",
    "                print(\"total_clock_GPU\",total_clock_GPU)\n",
    "            \n",
    "        else:\n",
    "            list_file_gpu=a\n",
    "            start_time=time.time()\n",
    "            start_oclock=time.clock()\n",
    "            print(\"Start Time GPU\",0,\"Time is \",start_time,start_oclock)\n",
    "            with tf.device(GPU_LIST[0]):\n",
    "                \n",
    "                #gpu_full_process(file_names,path_data_base,path_tf,path_non_redundant,path_idf,file_path_sim)\n",
    "                #Your statements here\n",
    "                print(\"In GPU Dev\",0)\n",
    "                model(list_file_gpu,0)\n",
    "            end_time=time.time()\n",
    "            end_oclock=time.clock()\n",
    "            print(\"End Time GPU\",0,\"Time is \",end_time,end_oclock)\n",
    "            total_time_GPU=end_time-start_time\n",
    "            total_clock_GPU=end_oclock-start_oclock\n",
    "            print(\"total_time_GPU\",total_time_GPU)\n",
    "            print(\"total_clock_GPU\",total_clock_GPU)\n",
    "        #list_file_gpu=chunkIt(a,2)\n",
    "        #print(list_file_gpu)\n",
    "        \n",
    "        \n",
    "        print(\"************End GPU*************\")\n",
    "        #print(\"setGPU.stats\",setGPU.stats)\n",
    "        #print(\"setGPU.bestGPU\",setGPU.bestGPU)\n",
    "        #print(\"setGPU.ratios\",setGPU.ratios)\n",
    "        #print(\"setGPU.ids\",setGPU.ids)\n",
    "        #print(\"gpu_memory_map\",gpu_memory_map())\n",
    "        CPU_End_Time=time.time()\n",
    "        CPU_End_Clock=time.clock()\n",
    "        stop = timeit.default_timer()\n",
    "        print(\"CPU End Time\",CPU_End_Time, CPU_End_Clock)\n",
    "        #GPU.showUtilization(all=True)#https://github.com/anderskm/gputil\n",
    "        End_gpu_memory=gpu_memory_map(\"gpu_memory_end.txt\",\"gpu_out_end.txt\")\n",
    "\n",
    "        save_txt(str(End_gpu_memory),\"End_gpu_memory.txt\")\n",
    "        print(\"gpu_memory_map\",End_gpu_memory)\n",
    "        sess.close()\n",
    "        #GPU.showUtilization(all=True)\n",
    "        #print(\"End GPU\",run_command(\"nvidia-smi -a\"))\n",
    "        #tl = timeline.Timeline(run_metadata.step_stats)\n",
    "        #print(\"tl.generate_chrome_trace_format\",tl.generate_chrome_trace_format(show_memory=True))"
   ]
  },
  {
   "cell_type": "code",
   "execution_count": null,
   "metadata": {
    "collapsed": true
   },
   "outputs": [],
   "source": [
    "tf.reset_default_graph()\n",
    "End_gpu_memory_end_session=gpu_memory_map(\"gpu_memory_end_session.txt\",\"gpu_out_end_session.txt\")\n",
    "\n",
    "save_txt(str(End_gpu_memory_end_session),\"End_gpu_memory_end_session.txt\")\n"
   ]
  },
  {
   "cell_type": "code",
   "execution_count": null,
   "metadata": {
    "collapsed": true
   },
   "outputs": [],
   "source": []
  },
  {
   "cell_type": "code",
   "execution_count": null,
   "metadata": {
    "collapsed": false
   },
   "outputs": [],
   "source": []
  },
  {
   "cell_type": "code",
   "execution_count": null,
   "metadata": {
    "collapsed": false
   },
   "outputs": [],
   "source": []
  },
  {
   "cell_type": "code",
   "execution_count": null,
   "metadata": {
    "collapsed": false
   },
   "outputs": [],
   "source": []
  },
  {
   "cell_type": "code",
   "execution_count": null,
   "metadata": {
    "collapsed": false
   },
   "outputs": [],
   "source": [
    "\n"
   ]
  },
  {
   "cell_type": "code",
   "execution_count": null,
   "metadata": {
    "collapsed": false
   },
   "outputs": [],
   "source": []
  },
  {
   "cell_type": "code",
   "execution_count": null,
   "metadata": {
    "collapsed": false
   },
   "outputs": [],
   "source": []
  },
  {
   "cell_type": "code",
   "execution_count": null,
   "metadata": {
    "collapsed": true
   },
   "outputs": [],
   "source": []
  },
  {
   "cell_type": "code",
   "execution_count": 16,
   "metadata": {
    "collapsed": true
   },
   "outputs": [],
   "source": []
  },
  {
   "cell_type": "code",
   "execution_count": 17,
   "metadata": {
    "collapsed": true
   },
   "outputs": [],
   "source": []
  },
  {
   "cell_type": "code",
   "execution_count": null,
   "metadata": {
    "collapsed": true
   },
   "outputs": [],
   "source": []
  }
 ],
 "metadata": {
  "kernelspec": {
   "display_name": "Python 3",
   "language": "python",
   "name": "python3"
  },
  "language_info": {
   "codemirror_mode": {
    "name": "ipython",
    "version": 3
   },
   "file_extension": ".py",
   "mimetype": "text/x-python",
   "name": "python",
   "nbconvert_exporter": "python",
   "pygments_lexer": "ipython3",
   "version": "3.6.3"
  }
 },
 "nbformat": 4,
 "nbformat_minor": 2
}
