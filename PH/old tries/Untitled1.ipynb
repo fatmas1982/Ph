{
 "cells": [
  {
   "cell_type": "code",
   "execution_count": 1,
   "metadata": {
    "collapsed": false
   },
   "outputs": [
    {
     "name": "stderr",
     "output_type": "stream",
     "text": [
      "/usr/lib/python3.6/importlib/_bootstrap.py:219: RuntimeWarning: compiletime version 3.5 of module 'tensorflow.python.framework.fast_tensor_util' does not match runtime version 3.6\n",
      "  return f(*args, **kwds)\n"
     ]
    }
   ],
   "source": [
    "import tensorflow as tf"
   ]
  },
  {
   "cell_type": "code",
   "execution_count": 7,
   "metadata": {
    "collapsed": true
   },
   "outputs": [],
   "source": [
    "def file_to_LESK_TF(inputs):\n",
    "    return \"file_to_LESK_TF\""
   ]
  },
  {
   "cell_type": "code",
   "execution_count": 8,
   "metadata": {
    "collapsed": true
   },
   "outputs": [],
   "source": [
    "def remove_redundant (inputs):\n",
    "    return \"remove_redundant\""
   ]
  },
  {
   "cell_type": "code",
   "execution_count": 9,
   "metadata": {
    "collapsed": true
   },
   "outputs": [],
   "source": [
    "def hhh(x,y):\n",
    "    return x+y"
   ]
  },
  {
   "cell_type": "code",
   "execution_count": 10,
   "metadata": {
    "collapsed": false
   },
   "outputs": [],
   "source": [
    "\n",
    "g = tf.Graph()\n",
    "\n",
    "with g.as_default():\n",
    "    Input_Files = tf.placeholder(tf.float32, name=\"Input_Files\")\n",
    "    \n",
    "    with tf.name_scope(\"Text_Processing\"):\n",
    "        W1 = tf.placeholder(tf.float32, name=\"W1\")\n",
    "        b1 = tf.placeholder(tf.float32, name=\"b1\")\n",
    "        b1=file_to_LESK_TF(Input_Files)\n",
    "\n",
    "        #a1 = tf.nn.relu(tf.matmul(X, W1) + b1)\n",
    "    \n",
    "    with tf.name_scope(\"TF\"):\n",
    "        W2 = tf.placeholder(tf.float32, name=\"W2\")\n",
    "        b2 = tf.placeholder(tf.float32, name=\"b2\")\n",
    "\n",
    "        #a2 = tf.nn.relu(tf.matmul(a1, W2) + b2)\n",
    "\n",
    "    with tf.name_scope(\"New_Word\"):\n",
    "        W3 = tf.placeholder(tf.float32, name=\"W3\")\n",
    "        b3 = tf.placeholder(tf.float32, name=\"b3\")\n",
    "\n",
    "        #y_hat = tf.matmul(a2, W3) + b3\n",
    "        \n",
    "            \n",
    "tf.summary.FileWriter(\"/home/fsg/logs_tf\", g).close()"
   ]
  },
  {
   "cell_type": "code",
   "execution_count": null,
   "metadata": {
    "collapsed": false
   },
   "outputs": [],
   "source": []
  },
  {
   "cell_type": "code",
   "execution_count": 45,
   "metadata": {
    "collapsed": true
   },
   "outputs": [],
   "source": [
    "config = tf.ConfigProto(device_count={\"GPU\": 2,\"CPU\":1},\n",
    "                        allow_soft_placement=True,\n",
    "                        inter_op_parallelism_threads=16,\n",
    "                        intra_op_parallelism_threads=16,\n",
    "                        use_per_session_threads=True,\n",
    "                        log_device_placement=True)\n",
    "config.gpu_options.allow_growth = True\n",
    "\n",
    "\n",
    "import os\n",
    "\n",
    "\n",
    "import threading\n",
    "import timeit\n",
    "from tensorflow.python.client import timeline\n",
    "import timeit\n",
    "with tf.Session(graph=g) as sess:\n",
    "    sess.run(tf.global_variables_initializer())\n",
    "    with tf.device('/cpu'):\n",
    "        start = timeit.default_timer()\n",
    "        #gpu_full_process(file_names,path_data_base,path_tf,path_non_redundant,path_idf,file_path_sim)\n",
    "        #Your statements here\n",
    "        #print(addd(\"1\",\"2\"))\n",
    "        stop = timeit.default_timer()\n",
    "        #print (\"tttttttttttttt\",stop - start )\n",
    "    \n",
    "   "
   ]
  },
  {
   "cell_type": "code",
   "execution_count": 46,
   "metadata": {
    "collapsed": true
   },
   "outputs": [],
   "source": [
    "tf.summary.FileWriter(\"/home/fsg/logs_tf\", g).close()"
   ]
  },
  {
   "cell_type": "code",
   "execution_count": null,
   "metadata": {
    "collapsed": true
   },
   "outputs": [],
   "source": []
  },
  {
   "cell_type": "code",
   "execution_count": null,
   "metadata": {
    "collapsed": true
   },
   "outputs": [],
   "source": []
  }
 ],
 "metadata": {
  "kernelspec": {
   "display_name": "Python 3",
   "language": "python",
   "name": "python3"
  },
  "language_info": {
   "codemirror_mode": {
    "name": "ipython",
    "version": 3
   },
   "file_extension": ".py",
   "mimetype": "text/x-python",
   "name": "python",
   "nbconvert_exporter": "python",
   "pygments_lexer": "ipython3",
   "version": "3.6.3"
  }
 },
 "nbformat": 4,
 "nbformat_minor": 2
}
