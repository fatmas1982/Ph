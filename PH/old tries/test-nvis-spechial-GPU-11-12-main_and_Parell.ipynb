{
 "cells": [
  {
   "cell_type": "code",
   "execution_count": 1,
   "metadata": {
    "collapsed": false
   },
   "outputs": [],
   "source": [
    "#! /usr/bin/python3.5\n",
    "\n"
   ]
  },
  {
   "cell_type": "code",
   "execution_count": 5,
   "metadata": {
    "collapsed": false
   },
   "outputs": [
    {
     "name": "stderr",
     "output_type": "stream",
     "text": [
      "/usr/lib/python3.6/importlib/_bootstrap.py:219: RuntimeWarning: compiletime version 3.5 of module 'tensorflow.python.framework.fast_tensor_util' does not match runtime version 3.6\n",
      "  return f(*args, **kwds)\n"
     ]
    }
   ],
   "source": [
    "import os\n",
    "#import GPUtil as GPU\n",
    "import tensorflow as tf\n",
    "#import threading\n",
    "import timeit\n",
    "import time\n",
    "#from tensorflow import logging\n",
    "from tensorflow.python.client import timeline\n",
    "import multiprocessing\n",
    "#import logging\n",
    "from datetime import datetime \n",
    "import sys"
   ]
  },
  {
   "cell_type": "code",
   "execution_count": null,
   "metadata": {
    "collapsed": true
   },
   "outputs": [],
   "source": [
    "gpuN=sys.argv[1]\n",
    "print(gpuN)"
   ]
  },
  {
   "cell_type": "code",
   "execution_count": 6,
   "metadata": {
    "collapsed": false
   },
   "outputs": [],
   "source": [
    "a=[\"A\",\"B\",\"C\",\"D\",\"hh\"]"
   ]
  },
  {
   "cell_type": "code",
   "execution_count": 7,
   "metadata": {
    "collapsed": false
   },
   "outputs": [],
   "source": [
    "def chunkIt(seq, num):\n",
    "   \n",
    "    avg = len(seq) / float(num)\n",
    "    out = []\n",
    "    last = 0.0\n",
    "    if num > 1:\n",
    "        while last < len(seq):\n",
    "            out.append(seq[int(last):int(last + avg)])\n",
    "            last += avg\n",
    "    else:\n",
    "        return seq\n",
    "\n",
    "    return out"
   ]
  },
  {
   "cell_type": "code",
   "execution_count": null,
   "metadata": {
    "collapsed": true
   },
   "outputs": [],
   "source": []
  },
  {
   "cell_type": "code",
   "execution_count": 8,
   "metadata": {
    "collapsed": false
   },
   "outputs": [],
   "source": [
    "#model(a,0)"
   ]
  },
  {
   "cell_type": "code",
   "execution_count": 9,
   "metadata": {
    "collapsed": false
   },
   "outputs": [],
   "source": [
    "from tensorflow.python.client import device_lib\n",
    "\n",
    "def get_available_gpus():\n",
    "    local_device_protos = device_lib.list_local_devices()\n",
    "    return [x.name for x in local_device_protos if x.device_type == 'GPU']\n",
    "    #return [x.name for x in local_device_protos]"
   ]
  },
  {
   "cell_type": "code",
   "execution_count": 10,
   "metadata": {
    "collapsed": true
   },
   "outputs": [],
   "source": [
    "import subprocess, re, os, sys #https://github.com/yaroslavvb/stuff/blob/master/notebook_util.py\n",
    "def run_command(cmd):\n",
    "    \"\"\"Run command, return output as string.\"\"\"\n",
    "    \n",
    "    output = subprocess.Popen(cmd, stdout=subprocess.PIPE, shell=True).communicate()[0]\n",
    "    return output.decode(\"ascii\")\n"
   ]
  },
  {
   "cell_type": "code",
   "execution_count": 11,
   "metadata": {
    "collapsed": true
   },
   "outputs": [],
   "source": [
    "def list_available_gpus():\n",
    "    \"\"\"Returns list of available GPU ids.\"\"\"\n",
    "    \n",
    "    output = run_command(\"nvidia-smi -L\")\n",
    "    # lines of the form GPU 0: TITAN X\n",
    "    gpu_regex = re.compile(r\"GPU (?P<gpu_id>\\d+):\")\n",
    "    result = []\n",
    "    for line in output.strip().split(\"\\n\"):\n",
    "        m = gpu_regex.match(line)\n",
    "        assert m, \"Couldnt parse \"+line\n",
    "        result.append(int(m.group(\"gpu_id\")))\n",
    "    return result"
   ]
  },
  {
   "cell_type": "code",
   "execution_count": 12,
   "metadata": {
    "collapsed": true
   },
   "outputs": [],
   "source": [
    "def gpu_memory_map(gpu_memory_file,gpu_output_file):\n",
    "    \"\"\"Returns map of GPU id to memory allocated on that GPU.\"\"\"\n",
    "\n",
    "    output = run_command(\"nvidia-smi\")\n",
    "    save_txt(output,gpu_output_file)\n",
    "    #print(\"nvidia-smi\",output)\n",
    "    gpu_output = output[output.find(\"GPU Memory\"):]\n",
    "    #print(\"GPU Memory\",gpu_output)\n",
    "    save_txt(gpu_output,gpu_memory_file)\n",
    "   \n",
    "    # lines of the form\n",
    "    # |    0      8734    C   python                                       11705MiB |\n",
    "    memory_regex = re.compile(r\"[|]\\s+?(?P<gpu_id>\\d+)\\D+?(?P<pid>\\d+).+[ ](?P<gpu_memory>\\d+)MiB\")\n",
    "    #print(\"memory_regex\",memory_regex)\n",
    "    rows = gpu_output.split(\"\\n\")\n",
    "    #print(\"rows\",rows)\n",
    "    result = {gpu_id: 0 for gpu_id in list_available_gpus()}\n",
    "    #print(\"result\",result)\n",
    "    for row in gpu_output.split(\"\\n\"):\n",
    "        m = memory_regex.search(row)\n",
    "        if not m:\n",
    "            continue\n",
    "        gpu_id = int(m.group(\"gpu_id\"))\n",
    "        gpu_memory = int(m.group(\"gpu_memory\"))\n",
    "        result[gpu_id] += gpu_memory\n",
    "    return result"
   ]
  },
  {
   "cell_type": "code",
   "execution_count": 13,
   "metadata": {
    "collapsed": true
   },
   "outputs": [],
   "source": [
    "def save_txt(txt,file):\n",
    "    text_file = open(file, \"w\")\n",
    "    text_file.write(txt)\n",
    "    text_file.close()"
   ]
  },
  {
   "cell_type": "markdown",
   "metadata": {
    "collapsed": false
   },
   "source": [
    "# Model\n"
   ]
  },
  {
   "cell_type": "code",
   "execution_count": 14,
   "metadata": {
    "collapsed": true
   },
   "outputs": [],
   "source": [
    "def model_gpu(a_list,i,gpu_name):\n",
    "    from datetime import datetime \n",
    "    startTime= datetime.now() \n",
    "    start = time.process_time()\n",
    "    print(\"************Start GPU Model*************\")\n",
    "    \n",
    "    #print(\"Start Time GPU\",i,\"Time is \",start_time,start_oclock)\n",
    "    \n",
    "    #import os\n",
    "    #proc = os.getpid()\n",
    "    #print(\"GPU:\",gpu_name,\"PID:\",proc)\n",
    "    with tf.device(gpu_name):\n",
    "        \n",
    "        start_gpu_memory=gpu_memory_map(\"gpu\"+str(i)+\"_memory_start.txt\",\"gpu\"+str(i)+\"_output_start.txt\")\n",
    "\n",
    "        save_txt(str(start_gpu_memory),\"gpu\"+str(i)+\"_memory_map.txt\")\n",
    "\n",
    "        \n",
    "        \n",
    "        \n",
    "        #proc = os.getpid()\n",
    "        #print(\"GPU:\",gpu_name,\"PID:\",proc)\n",
    "        from datetime import datetime\n",
    "        start_time = datetime.now()\n",
    "        start_oclock=time.clock()\n",
    "        z=1000000000\n",
    "        c=0\n",
    "        \n",
    "        for x in range(z):\n",
    "            c= x*2    \n",
    "\n",
    "\n",
    "        print(\"list model\",a_list,i)\n",
    "        \n",
    "        \n",
    "        #end_time = datetime.now()\n",
    "        #intimeElapsed=end_time-start_time \n",
    "        #print('Duration: {}'.format(end_time - start_time))\n",
    "        #print('End Devices GPU Time elpased (hh:mm:ss.ms) {}'.format(intimeElapsed))\n",
    "        #model_gpu(list_file_gpu[i],i,GPU_LIST[i])\n",
    "        \n",
    "        start_gpu_memory=gpu_memory_map(\"gpu\"+str(i)+\"_memory_end.txt\",\"gpu\"+str(i)+\"_memory_end.txt\")\n",
    "\n",
    "        save_txt(str(start_gpu_memory),\"gpu\"+str(i)+\"_end.txt\")\n",
    "    end_time=time.time()\n",
    "    end_oclock=time.clock()\n",
    "    print(\"End Time GPU\",i,\"Time is \",end_time,end_oclock)\n",
    "    timeElapsed=datetime.now()-startTime \n",
    "    elapsed = (time.process_time() - start)\n",
    "    print('model_gpu Time elpased (hh:mm:ss.ms) {}'.format(timeElapsed))\n",
    "    print('model_gpu Time elpased (hh:mm:ss.ms) {}'.format(elapsed))\n",
    "    #print(\"Total Time GPU\",i,\"Time is \",end_time-start_time,end_oclock-start_oclock)\n",
    "\n",
    "    #return c"
   ]
  },
  {
   "cell_type": "code",
   "execution_count": 15,
   "metadata": {
    "collapsed": false
   },
   "outputs": [],
   "source": [
    "def parell_process():\n",
    "    print(\"************Started Main Process*************\")\n",
    "    #proc = os.getpid()\n",
    "    #print(\"Main Process ID:\",proc)\n",
    "    import multiprocessing\n",
    "    config = tf.ConfigProto(device_count={\"GPU\": 2,\"CPU\":1},\n",
    "                            allow_soft_placement=True,\n",
    "                            inter_op_parallelism_threads=16,\n",
    "                            intra_op_parallelism_threads=16,\n",
    "                            use_per_session_threads=True,\n",
    "                            log_device_placement=True)\n",
    "    config.gpu_options.allow_growth = True\n",
    "\n",
    "\n",
    "    \n",
    "    start_gpu_memory=gpu_memory_map(\"gpu_befor_session_memory.txt\",\"gpu_befor_session_out.txt\")\n",
    "\n",
    "    save_txt(str(start_gpu_memory),\"gpu_befor_session_memory_map.txt\")\n",
    "\n",
    "    print(\"gpu_memory_map\",start_gpu_memory)\n",
    "    startTime= datetime.now() \n",
    "    start = time.process_time()\n",
    "        \n",
    "\n",
    "    with tf.Session(config=config) as sess:\n",
    "        print(\"************Started Session Main Process*************\")\n",
    "        \n",
    "        sess.run(tf.global_variables_initializer())\n",
    "        start_gpu_memory=gpu_memory_map(\"gpu_after_start_session_memory.txt\",\"gpu_after_start_session_out.txt\")\n",
    "\n",
    "        save_txt(str(start_gpu_memory),\"gpu_after_start_session_memory_map.txt\")\n",
    "        \n",
    "        GPU_LIST=get_available_gpus()\n",
    "        print(\"GPU_LIST\",GPU_LIST)\n",
    "        list_file_gpu=[]\n",
    "        import os\n",
    "\n",
    "        with tf.device('/cpu'):\n",
    "\n",
    "            processes=[]\n",
    "            list_file_gpu=chunkIt(a,len(GPU_LIST))\n",
    "            for i in range(len(GPU_LIST)):\n",
    "                \n",
    "                proc = multiprocessing.Process(target=model_gpu, args=(list_file_gpu[i],i,GPU_LIST[i]))\n",
    "                processes.append(proc)\n",
    "                \n",
    "                \n",
    "            #multiprocessing.log_to_stderr()\n",
    "            #logger = multiprocessing.get_logger()\n",
    "            #logger.setLevel(logging.INFO)\n",
    "            # Run processes\n",
    "            print(\"Will Start sub process\")\n",
    "            for p in processes:\n",
    "                \n",
    "                p.start()\n",
    "                print(\"Started PID:\",p.pid,\"P Name:\",p.name)\n",
    "\n",
    "            # Exit the completed processes\n",
    "            print(\"Will join sub process\")\n",
    "            for p in processes:\n",
    "                p.join()            \n",
    "                \n",
    "                \n",
    "            start_gpu_memory=gpu_memory_map(\"gpu_befor_end_session_memory.txt\",\"gpu_befor_end_session_out.txt\")\n",
    "\n",
    "            save_txt(str(start_gpu_memory),\"gpu_befor_end_session_memory_map.txt\")\n",
    "           \n",
    "            sess.close()\n",
    "    timeElapsed=datetime.now()-startTime \n",
    "    elapsed = (time.process_time() - start)\n",
    "    print('Parellel Time elpased (hh:mm:ss.ms) {}'.format(timeElapsed))\n",
    "    print('Parellel Time elpased (hh:mm:ss.ms) {}'.format(elapsed))\n",
    "    start_gpu_memory=gpu_memory_map(\"gpu_after_end_session_memory.txt\",\"gpu_after_end_session_out.txt\")\n",
    "\n",
    "    save_txt(str(start_gpu_memory),\"gpu_after_end_session_memory_map.txt\")\n",
    "    print(\"************Ended Main Process*************\")\n"
   ]
  },
  {
   "cell_type": "markdown",
   "metadata": {},
   "source": [
    "# Start Main Process"
   ]
  },
  {
   "cell_type": "code",
   "execution_count": 16,
   "metadata": {
    "collapsed": false
   },
   "outputs": [
    {
     "name": "stdout",
     "output_type": "stream",
     "text": [
      "Will Start Main Process\n"
     ]
    },
    {
     "name": "stderr",
     "output_type": "stream",
     "text": [
      "[INFO/Process-1] child process calling self.run()\n"
     ]
    },
    {
     "name": "stdout",
     "output_type": "stream",
     "text": [
      "************Started Main Process*************\n",
      "gpu_memory_map {0: 0}\n",
      "************Started Session Main Process*************\n",
      "GPU_LIST []\n"
     ]
    },
    {
     "name": "stderr",
     "output_type": "stream",
     "text": [
      "[INFO/Process-1] process shutting down\n",
      "Process Process-1:\n",
      "Traceback (most recent call last):\n",
      "  File \"/usr/lib/python3.6/multiprocessing/process.py\", line 258, in _bootstrap\n",
      "    self.run()\n",
      "  File \"/usr/lib/python3.6/multiprocessing/process.py\", line 93, in run\n",
      "    self._target(*self._args, **self._kwargs)\n",
      "  File \"<ipython-input-15-5d2a93e30465>\", line 37, in parell_process\n",
      "    list_file_gpu=chunkIt(a,len(GPU_LIST))\n",
      "  File \"<ipython-input-7-a1e9065fe5db>\", line 3, in chunkIt\n",
      "    avg = len(seq) / float(num)\n",
      "ZeroDivisionError: float division by zero\n",
      "[INFO/Process-1] process exiting with exitcode 1\n"
     ]
    },
    {
     "name": "stdout",
     "output_type": "stream",
     "text": [
      "End Main Process\n"
     ]
    }
   ],
   "source": [
    "startTime= datetime.now() \n",
    "start = time.process_time()\n",
    "Start=gpu_memory_map(\"gpu_memory_befor_start.txt\",\"gpu_out_befor_start.txt\")\n",
    "\n",
    "save_txt(str(Start),\"gpu_memory_map_befor.txt\")\n",
    "print(\"Will Start Main Process\")\n",
    "#multiprocessing.log_to_stderr()\n",
    "#logger = multiprocessing.get_logger()\n",
    "#logger.setLevel(logging.INFO)\n",
    "p = multiprocessing.Process(target=parell_process)\n",
    "p.start()\n",
    "print(\"Started PID:\",p.pid,\"P Name:\",p.name)\n",
    "p.join()\n",
    "\n",
    "tf.reset_default_graph()\n",
    "print(\"End Main Process\")\n",
    "End=gpu_memory_map(\"gpu_memory_after_end.txt\",\"gpu_out_after_end.txt\")\n",
    "\n",
    "save_txt(str(End),\"gpu_memory_map_after.txt\")\n",
    "timeElapsed=datetime.now()-startTime \n",
    "elapsed = (time.process_time() - start)\n",
    "print('All Time elpased (hh:mm:ss.ms) {}'.format(timeElapsed))\n",
    "print('All Time elpased (hh:mm:ss.ms) {}'.format(elapsed))\n"
   ]
  },
  {
   "cell_type": "code",
   "execution_count": null,
   "metadata": {
    "collapsed": true
   },
   "outputs": [],
   "source": []
  },
  {
   "cell_type": "code",
   "execution_count": null,
   "metadata": {
    "collapsed": true
   },
   "outputs": [],
   "source": []
  }
 ],
 "metadata": {
  "kernelspec": {
   "display_name": "Python 3",
   "language": "python",
   "name": "python3"
  },
  "language_info": {
   "codemirror_mode": {
    "name": "ipython",
    "version": 3
   },
   "file_extension": ".py",
   "mimetype": "text/x-python",
   "name": "python",
   "nbconvert_exporter": "python",
   "pygments_lexer": "ipython3",
   "version": "3.6.3"
  }
 },
 "nbformat": 4,
 "nbformat_minor": 2
}
