{
 "cells": [
  {
   "cell_type": "code",
   "execution_count": 1,
   "metadata": {
    "collapsed": false
   },
   "outputs": [],
   "source": [
    "#! /usr/bin/python3.5"
   ]
  },
  {
   "cell_type": "code",
   "execution_count": 2,
   "metadata": {
    "collapsed": false
   },
   "outputs": [],
   "source": [
    "a=[\"A\",\"B\",\"C\",\"D\",\"hh\"]"
   ]
  },
  {
   "cell_type": "code",
   "execution_count": 3,
   "metadata": {
    "collapsed": false
   },
   "outputs": [],
   "source": [
    "def chunkIt(seq, num):\n",
    "   \n",
    "    avg = len(seq) / float(num)\n",
    "    out = []\n",
    "    last = 0.0\n",
    "    if num > 1:\n",
    "        while last < len(seq):\n",
    "            out.append(seq[int(last):int(last + avg)])\n",
    "            last += avg\n",
    "    else:\n",
    "        return seq\n",
    "\n",
    "    return out"
   ]
  },
  {
   "cell_type": "code",
   "execution_count": 4,
   "metadata": {
    "collapsed": false
   },
   "outputs": [],
   "source": [
    "def model(a_list,i):\n",
    "    print(\"list model\",a_list,i)"
   ]
  },
  {
   "cell_type": "code",
   "execution_count": 5,
   "metadata": {
    "collapsed": false
   },
   "outputs": [
    {
     "name": "stderr",
     "output_type": "stream",
     "text": [
      "/usr/lib/python3.6/importlib/_bootstrap.py:219: RuntimeWarning: compiletime version 3.5 of module 'tensorflow.python.framework.fast_tensor_util' does not match runtime version 3.6\n",
      "  return f(*args, **kwds)\n"
     ]
    }
   ],
   "source": [
    "from tensorflow.python.client import device_lib\n",
    "\n",
    "def get_available_gpus():\n",
    "    local_device_protos = device_lib.list_local_devices()\n",
    "    return [x.name for x in local_device_protos if x.device_type == 'GPU']\n",
    "    #return [x.name for x in local_device_protos]"
   ]
  },
  {
   "cell_type": "code",
   "execution_count": 6,
   "metadata": {
    "collapsed": true
   },
   "outputs": [],
   "source": [
    "import subprocess, re, os, sys #https://github.com/yaroslavvb/stuff/blob/master/notebook_util.py\n",
    "def run_command(cmd):\n",
    "    \"\"\"Run command, return output as string.\"\"\"\n",
    "    \n",
    "    output = subprocess.Popen(cmd, stdout=subprocess.PIPE, shell=True).communicate()[0]\n",
    "    return output.decode(\"ascii\")\n"
   ]
  },
  {
   "cell_type": "code",
   "execution_count": 7,
   "metadata": {
    "collapsed": true
   },
   "outputs": [],
   "source": [
    "def list_available_gpus():\n",
    "    \"\"\"Returns list of available GPU ids.\"\"\"\n",
    "    \n",
    "    output = run_command(\"nvidia-smi -L\")\n",
    "    # lines of the form GPU 0: TITAN X\n",
    "    gpu_regex = re.compile(r\"GPU (?P<gpu_id>\\d+):\")\n",
    "    result = []\n",
    "    for line in output.strip().split(\"\\n\"):\n",
    "        m = gpu_regex.match(line)\n",
    "        assert m, \"Couldnt parse \"+line\n",
    "        result.append(int(m.group(\"gpu_id\")))\n",
    "    return result"
   ]
  },
  {
   "cell_type": "code",
   "execution_count": 8,
   "metadata": {
    "collapsed": true
   },
   "outputs": [],
   "source": [
    "def gpu_memory_map():\n",
    "    \"\"\"Returns map of GPU id to memory allocated on that GPU.\"\"\"\n",
    "\n",
    "    output = run_command(\"nvidia-smi\")\n",
    "    print(\"nvidia-smi\",output)\n",
    "    gpu_output = output[output.find(\"GPU Memory\"):]\n",
    "    print(\"GPU Memory\",output)\n",
    "    # lines of the form\n",
    "    # |    0      8734    C   python                                       11705MiB |\n",
    "    memory_regex = re.compile(r\"[|]\\s+?(?P<gpu_id>\\d+)\\D+?(?P<pid>\\d+).+[ ](?P<gpu_memory>\\d+)MiB\")\n",
    "    #print(\"memory_regex\",memory_regex)\n",
    "    rows = gpu_output.split(\"\\n\")\n",
    "    #print(\"rows\",rows)\n",
    "    result = {gpu_id: 0 for gpu_id in list_available_gpus()}\n",
    "    #print(\"result\",result)\n",
    "    for row in gpu_output.split(\"\\n\"):\n",
    "        m = memory_regex.search(row)\n",
    "        if not m:\n",
    "            continue\n",
    "        gpu_id = int(m.group(\"gpu_id\"))\n",
    "        gpu_memory = int(m.group(\"gpu_memory\"))\n",
    "        result[gpu_id] += gpu_memory\n",
    "    return result"
   ]
  },
  {
   "cell_type": "code",
   "execution_count": null,
   "metadata": {
    "collapsed": true
   },
   "outputs": [],
   "source": []
  },
  {
   "cell_type": "code",
   "execution_count": 9,
   "metadata": {
    "collapsed": false
   },
   "outputs": [
    {
     "name": "stdout",
     "output_type": "stream",
     "text": [
      "************Start*************\n",
      "Start GPU \n",
      "==============NVSMI LOG==============\n",
      "\n",
      "Timestamp                           : Thu Dec  7 12:40:45 2017\n",
      "Driver Version                      : 384.90\n",
      "\n",
      "Attached GPUs                       : 1\n",
      "GPU 00000000:01:00.0\n",
      "    Product Name                    : GeForce GT 540M\n",
      "    Product Brand                   : GeForce\n",
      "    Display Mode                    : N/A\n",
      "    Display Active                  : N/A\n",
      "    Persistence Mode                : Disabled\n",
      "    Accounting Mode                 : N/A\n",
      "    Accounting Mode Buffer Size     : N/A\n",
      "    Driver Model\n",
      "        Current                     : N/A\n",
      "        Pending                     : N/A\n",
      "    Serial Number                   : N/A\n",
      "    GPU UUID                        : GPU-687ba13e-aaa5-174c-8be0-a34f9a2e7013\n",
      "    Minor Number                    : 0\n",
      "    VBIOS Version                   : 70.08.4A.00.22\n",
      "    MultiGPU Board                  : N/A\n",
      "    Board ID                        : N/A\n",
      "    GPU Part Number                 : N/A\n",
      "    Inforom Version\n",
      "        Image Version               : N/A\n",
      "        OEM Object                  : N/A\n",
      "        ECC Object                  : N/A\n",
      "        Power Management Object     : N/A\n",
      "    GPU Operation Mode\n",
      "        Current                     : N/A\n",
      "        Pending                     : N/A\n",
      "    GPU Virtualization Mode\n",
      "        Virtualization mode         : N/A\n",
      "    PCI\n",
      "        Bus                         : 0x01\n",
      "        Device                      : 0x00\n",
      "        Domain                      : 0x0000\n",
      "        Device Id                   : 0x0DF410DE\n",
      "        Bus Id                      : 00000000:01:00.0\n",
      "        Sub System Id               : 0xFC311179\n",
      "        GPU Link Info\n",
      "            PCIe Generation\n",
      "                Max                 : N/A\n",
      "                Current             : N/A\n",
      "            Link Width\n",
      "                Max                 : N/A\n",
      "                Current             : N/A\n",
      "        Bridge Chip\n",
      "            Type                    : N/A\n",
      "            Firmware                : N/A\n",
      "        Replays since reset         : N/A\n",
      "        Tx Throughput               : N/A\n",
      "        Rx Throughput               : N/A\n",
      "    Fan Speed                       : N/A\n",
      "    Performance State               : P8\n",
      "    Clocks Throttle Reasons         : N/A\n",
      "    FB Memory Usage\n",
      "        Total                       : 964 MiB\n",
      "        Used                        : 211 MiB\n",
      "        Free                        : 753 MiB\n",
      "    BAR1 Memory Usage\n",
      "        Total                       : N/A\n",
      "        Used                        : N/A\n",
      "        Free                        : N/A\n",
      "    Compute Mode                    : Default\n",
      "    Utilization\n",
      "        Gpu                         : N/A\n",
      "        Memory                      : N/A\n",
      "        Encoder                     : N/A\n",
      "        Decoder                     : N/A\n",
      "    Encoder Stats\n",
      "        Active Sessions             : N/A\n",
      "        Average FPS                 : N/A\n",
      "        Average Latency             : N/A\n",
      "    Ecc Mode\n",
      "        Current                     : N/A\n",
      "        Pending                     : N/A\n",
      "    ECC Errors\n",
      "        Volatile\n",
      "            Single Bit            \n",
      "                Device Memory       : N/A\n",
      "                Register File       : N/A\n",
      "                L1 Cache            : N/A\n",
      "                L2 Cache            : N/A\n",
      "                Texture Memory      : N/A\n",
      "                Texture Shared      : N/A\n",
      "                CBU                 : N/A\n",
      "                Total               : N/A\n",
      "            Double Bit            \n",
      "                Device Memory       : N/A\n",
      "                Register File       : N/A\n",
      "                L1 Cache            : N/A\n",
      "                L2 Cache            : N/A\n",
      "                Texture Memory      : N/A\n",
      "                Texture Shared      : N/A\n",
      "                CBU                 : N/A\n",
      "                Total               : N/A\n",
      "        Aggregate\n",
      "            Single Bit            \n",
      "                Device Memory       : N/A\n",
      "                Register File       : N/A\n",
      "                L1 Cache            : N/A\n",
      "                L2 Cache            : N/A\n",
      "                Texture Memory      : N/A\n",
      "                Texture Shared      : N/A\n",
      "                CBU                 : N/A\n",
      "                Total               : N/A\n",
      "            Double Bit            \n",
      "                Device Memory       : N/A\n",
      "                Register File       : N/A\n",
      "                L1 Cache            : N/A\n",
      "                L2 Cache            : N/A\n",
      "                Texture Memory      : N/A\n",
      "                Texture Shared      : N/A\n",
      "                CBU                 : N/A\n",
      "                Total               : N/A\n",
      "    Retired Pages\n",
      "        Single Bit ECC              : N/A\n",
      "        Double Bit ECC              : N/A\n",
      "        Pending                     : N/A\n",
      "    Temperature\n",
      "        GPU Current Temp            : 48 C\n",
      "        GPU Shutdown Temp           : N/A\n",
      "        GPU Slowdown Temp           : N/A\n",
      "        GPU Max Operating Temp      : N/A\n",
      "        Memory Current Temp         : N/A\n",
      "        Memory Max Operating Temp   : N/A\n",
      "    Power Readings\n",
      "        Power Management            : N/A\n",
      "        Power Draw                  : N/A\n",
      "        Power Limit                 : N/A\n",
      "        Default Power Limit         : N/A\n",
      "        Enforced Power Limit        : N/A\n",
      "        Min Power Limit             : N/A\n",
      "        Max Power Limit             : N/A\n",
      "    Clocks\n",
      "        Graphics                    : N/A\n",
      "        SM                          : N/A\n",
      "        Memory                      : N/A\n",
      "        Video                       : N/A\n",
      "    Applications Clocks\n",
      "        Graphics                    : N/A\n",
      "        Memory                      : N/A\n",
      "    Default Applications Clocks\n",
      "        Graphics                    : N/A\n",
      "        Memory                      : N/A\n",
      "    Max Clocks\n",
      "        Graphics                    : N/A\n",
      "        SM                          : N/A\n",
      "        Memory                      : N/A\n",
      "        Video                       : N/A\n",
      "    Max Customer Boost Clocks\n",
      "        Graphics                    : N/A\n",
      "    Clock Policy\n",
      "        Auto Boost                  : N/A\n",
      "        Auto Boost Default          : N/A\n",
      "    Processes                       : N/A\n",
      "\n",
      "\n",
      "setGPU: Setting GPU to: 0\n",
      "setGPU.stats GPUStatCollection(host=fsg-Satellite-P750, [\n",
      "  \u001b[36m[0]\u001b[m \u001b[34mGeForce GT 540M \u001b[m |\u001b[31m 48'C\u001b[m, \u001b[1m\u001b[30m ?? %\u001b[m | \u001b[36m\u001b[1m\u001b[33m  211\u001b[m / \u001b[33m  964\u001b[m MB | (Not Supported)\n",
      "])\n",
      "Start Time CPU 1512643246.4721227 3.222048\n"
     ]
    },
    {
     "ename": "ZeroDivisionError",
     "evalue": "float division by zero",
     "output_type": "error",
     "traceback": [
      "\u001b[0;31m---------------------------------------------------------------------------\u001b[0m",
      "\u001b[0;31mZeroDivisionError\u001b[0m                         Traceback (most recent call last)",
      "\u001b[0;32m<ipython-input-9-34814c5f52c7>\u001b[0m in \u001b[0;36m<module>\u001b[0;34m()\u001b[0m\n\u001b[1;32m     43\u001b[0m         \u001b[0mstart\u001b[0m \u001b[0;34m=\u001b[0m \u001b[0mtimeit\u001b[0m\u001b[0;34m.\u001b[0m\u001b[0mdefault_timer\u001b[0m\u001b[0;34m(\u001b[0m\u001b[0;34m)\u001b[0m\u001b[0;34m\u001b[0m\u001b[0m\n\u001b[1;32m     44\u001b[0m         \u001b[0mGPU_LIST\u001b[0m\u001b[0;34m=\u001b[0m\u001b[0mget_available_gpus\u001b[0m\u001b[0;34m(\u001b[0m\u001b[0;34m)\u001b[0m\u001b[0;34m\u001b[0m\u001b[0m\n\u001b[0;32m---> 45\u001b[0;31m         \u001b[0mlist_file_gpu\u001b[0m\u001b[0;34m=\u001b[0m\u001b[0mchunkIt\u001b[0m\u001b[0;34m(\u001b[0m\u001b[0ma\u001b[0m\u001b[0;34m,\u001b[0m\u001b[0mlen\u001b[0m\u001b[0;34m(\u001b[0m\u001b[0mGPU_LIST\u001b[0m\u001b[0;34m)\u001b[0m\u001b[0;34m)\u001b[0m\u001b[0;34m\u001b[0m\u001b[0m\n\u001b[0m\u001b[1;32m     46\u001b[0m         \u001b[0mprint\u001b[0m\u001b[0;34m(\u001b[0m\u001b[0mlist_file_gpu\u001b[0m\u001b[0;34m)\u001b[0m\u001b[0;34m\u001b[0m\u001b[0m\n\u001b[1;32m     47\u001b[0m         \u001b[0;32mfor\u001b[0m \u001b[0mi\u001b[0m \u001b[0;32min\u001b[0m \u001b[0mrange\u001b[0m\u001b[0;34m(\u001b[0m\u001b[0mlen\u001b[0m\u001b[0;34m(\u001b[0m\u001b[0mGPU_LIST\u001b[0m\u001b[0;34m)\u001b[0m\u001b[0;34m)\u001b[0m\u001b[0;34m:\u001b[0m\u001b[0;34m\u001b[0m\u001b[0m\n",
      "\u001b[0;32m<ipython-input-3-a1e9065fe5db>\u001b[0m in \u001b[0;36mchunkIt\u001b[0;34m(seq, num)\u001b[0m\n\u001b[1;32m      1\u001b[0m \u001b[0;32mdef\u001b[0m \u001b[0mchunkIt\u001b[0m\u001b[0;34m(\u001b[0m\u001b[0mseq\u001b[0m\u001b[0;34m,\u001b[0m \u001b[0mnum\u001b[0m\u001b[0;34m)\u001b[0m\u001b[0;34m:\u001b[0m\u001b[0;34m\u001b[0m\u001b[0m\n\u001b[1;32m      2\u001b[0m \u001b[0;34m\u001b[0m\u001b[0m\n\u001b[0;32m----> 3\u001b[0;31m     \u001b[0mavg\u001b[0m \u001b[0;34m=\u001b[0m \u001b[0mlen\u001b[0m\u001b[0;34m(\u001b[0m\u001b[0mseq\u001b[0m\u001b[0;34m)\u001b[0m \u001b[0;34m/\u001b[0m \u001b[0mfloat\u001b[0m\u001b[0;34m(\u001b[0m\u001b[0mnum\u001b[0m\u001b[0;34m)\u001b[0m\u001b[0;34m\u001b[0m\u001b[0m\n\u001b[0m\u001b[1;32m      4\u001b[0m     \u001b[0mout\u001b[0m \u001b[0;34m=\u001b[0m \u001b[0;34m[\u001b[0m\u001b[0;34m]\u001b[0m\u001b[0;34m\u001b[0m\u001b[0m\n\u001b[1;32m      5\u001b[0m     \u001b[0mlast\u001b[0m \u001b[0;34m=\u001b[0m \u001b[0;36m0.0\u001b[0m\u001b[0;34m\u001b[0m\u001b[0m\n",
      "\u001b[0;31mZeroDivisionError\u001b[0m: float division by zero"
     ]
    }
   ],
   "source": [
    "\n",
    "import os\n",
    "import GPUtil as GPU\n",
    "import tensorflow as tf\n",
    "#import threading\n",
    "import timeit\n",
    "import time\n",
    "#from tensorflow import logging\n",
    "from tensorflow.python.client import timeline\n",
    "#os.environ['TF_CPP_MIN_VLOG_LEVEL']='3'\n",
    "#os.environ['TF_CPP_MIN_LOG_LEVEL'] = '3'\n",
    "#logging.set_verbosity(logging.INFO)\n",
    "#logging.vlog(1, \"Registering %s (%s) in %s.\", name, candidate, self._name)\n",
    "\n",
    "config = tf.ConfigProto(device_count={\"GPU\": 2,\"CPU\":1},\n",
    "                        allow_soft_placement=True,\n",
    "                        inter_op_parallelism_threads=16,\n",
    "                        intra_op_parallelism_threads=16,\n",
    "                        use_per_session_threads=True,\n",
    "                        log_device_placement=True)\n",
    "config.gpu_options.allow_growth = True\n",
    "\n",
    "#run_options = tf.RunOptions(trace_level=tf.RunOptions.FULL_TRACE)\n",
    "#run_metadata = tf.RunMetadata()\n",
    "print(\"************Start*************\")\n",
    "print(\"gpu_memory_map\",gpu_memory_map())\n",
    "GPU.showUtilization(all=True)\n",
    "print(\"Start GPU\",run_command(\"nvidia-smi -a\"))\n",
    "#import setGPU\n",
    "#print(\"setGPU.stats\",setGPU.stats)\n",
    "with tf.Session(config=config) as sess:\n",
    "    sess.run(tf.global_variables_initializer())\n",
    "    GPU_LIST=[]\n",
    "    list_file_gpu=[]\n",
    "    import os\n",
    "    #os.environ['CUDA_VISIBLE_DEVICES'] = \"0,1\"\n",
    "    with tf.device('/cpu'):\n",
    "       \n",
    "        #print(\"setGPU.bestGPU\",setGPU.bestGPU)\n",
    "        #print(\"setGPU.ratios\",setGPU.ratios)\n",
    "        #print(\"setGPU.ids\",setGPU.ids)\n",
    "        \n",
    "        print(\"Start Time CPU\",time.time(), time.clock())\n",
    "        start = timeit.default_timer()\n",
    "        GPU_LIST=get_available_gpus()\n",
    "        list_file_gpu=chunkIt(a,len(GPU_LIST))\n",
    "        print(list_file_gpu)\n",
    "        for i in range(len(GPU_LIST)):\n",
    "            with tf.device(tf.DeviceSpec(device_type=\"GPU\", device_index=i)):\n",
    "                start_time=time.time()\n",
    "                start_oclock=time.clock()\n",
    "                print(\"Start Time GPU\",i,\"Time is \",start_time,start_oclock)\n",
    "                #gpu_full_process(file_names,path_data_base,path_tf,path_non_redundant,path_idf,file_path_sim)\n",
    "                #Your statements here\n",
    "                print(\"In GPU Dev\",i)\n",
    "                model(list_file_gpu[i],i)\n",
    "                end_time=time.time()\n",
    "                end_oclock=time.clock()\n",
    "                print(\"End Time GPU\",i,\"Time is \",end_time,end_oclock)\n",
    "                total_time_GPU=end_time-start_time\n",
    "                total_clock_GPU=end_oclock-start_oclock\n",
    "                print(\"total_time_GPU\",total_time_GPU)\n",
    "                print(\"total_clock_GPU\",total_clock_GPU)\n",
    "        \n",
    "        print(\"************End*************\")\n",
    "        print(\"setGPU.stats\",setGPU.stats)\n",
    "        #print(\"setGPU.bestGPU\",setGPU.bestGPU)\n",
    "        #print(\"setGPU.ratios\",setGPU.ratios)\n",
    "        #print(\"setGPU.ids\",setGPU.ids)\n",
    "        #print(\"gpu_memory_map\",gpu_memory_map())\n",
    "        stop = timeit.default_timer()\n",
    "        print(\"End Time\",time.time(), time.clock())\n",
    "        #GPU.showUtilization(all=True)#https://github.com/anderskm/gputil\n",
    "        print(\"****************End***************\")\n",
    "        print(\"gpu_memory_map\",gpu_memory_map())\n",
    "        GPU.showUtilization(all=True)\n",
    "        print(\"End GPU\",run_command(\"nvidia-smi -a\"))\n",
    "        #tl = timeline.Timeline(run_metadata.step_stats)\n",
    "        #print(\"tl.generate_chrome_trace_format\",tl.generate_chrome_trace_format(show_memory=True))"
   ]
  },
  {
   "cell_type": "code",
   "execution_count": null,
   "metadata": {
    "collapsed": true
   },
   "outputs": [],
   "source": []
  },
  {
   "cell_type": "code",
   "execution_count": null,
   "metadata": {
    "collapsed": true
   },
   "outputs": [],
   "source": []
  },
  {
   "cell_type": "code",
   "execution_count": null,
   "metadata": {
    "collapsed": false
   },
   "outputs": [],
   "source": []
  },
  {
   "cell_type": "code",
   "execution_count": null,
   "metadata": {
    "collapsed": false
   },
   "outputs": [],
   "source": []
  },
  {
   "cell_type": "code",
   "execution_count": null,
   "metadata": {
    "collapsed": false
   },
   "outputs": [],
   "source": []
  },
  {
   "cell_type": "code",
   "execution_count": null,
   "metadata": {
    "collapsed": false
   },
   "outputs": [],
   "source": [
    "\n"
   ]
  },
  {
   "cell_type": "code",
   "execution_count": null,
   "metadata": {
    "collapsed": false
   },
   "outputs": [],
   "source": []
  },
  {
   "cell_type": "code",
   "execution_count": null,
   "metadata": {
    "collapsed": false
   },
   "outputs": [],
   "source": []
  },
  {
   "cell_type": "code",
   "execution_count": null,
   "metadata": {
    "collapsed": true
   },
   "outputs": [],
   "source": []
  },
  {
   "cell_type": "code",
   "execution_count": null,
   "metadata": {
    "collapsed": true
   },
   "outputs": [],
   "source": []
  }
 ],
 "metadata": {
  "kernelspec": {
   "display_name": "Python 3",
   "language": "python",
   "name": "python3"
  },
  "language_info": {
   "codemirror_mode": {
    "name": "ipython",
    "version": 3
   },
   "file_extension": ".py",
   "mimetype": "text/x-python",
   "name": "python",
   "nbconvert_exporter": "python",
   "pygments_lexer": "ipython3",
   "version": "3.6.3"
  }
 },
 "nbformat": 4,
 "nbformat_minor": 2
}
