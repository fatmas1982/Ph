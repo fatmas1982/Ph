{
 "cells": [
  {
   "cell_type": "code",
   "execution_count": 1,
   "metadata": {
    "collapsed": true
   },
   "outputs": [],
   "source": [
    "import timeit\n",
    "import time\n",
    "\n",
    "import multiprocessing\n",
    "#import logging\n",
    "from datetime import datetime "
   ]
  },
  {
   "cell_type": "code",
   "execution_count": 2,
   "metadata": {
    "collapsed": true
   },
   "outputs": [],
   "source": [
    "def ddd(x,y):\n",
    "    startTime= datetime.now() \n",
    "    start = time.process_time()\n",
    "    for i in range(x):\n",
    "        i*y\n",
    "        c=x*y\n",
    "    timeElapsed=datetime.now()-startTime \n",
    "    elapsed = (time.process_time() - start)\n",
    "    print('In Time elpased (hh:mm:ss.ms) {}'.format(timeElapsed))\n",
    "    print('In Time elpased (hh:mm:ss.ms) {}'.format(elapsed))\n",
    "    return \"c\""
   ]
  },
  {
   "cell_type": "code",
   "execution_count": 7,
   "metadata": {
    "collapsed": false
   },
   "outputs": [
    {
     "name": "stdout",
     "output_type": "stream",
     "text": [
      "**************start Main***********\n",
      "<class 'multiprocessing.context.Process'>\n",
      "4938\n",
      "Process-5:1\n",
      "In Time elpased (hh:mm:ss.ms) 0:00:00.104093\n",
      "In Time elpased (hh:mm:ss.ms) 0.104041822\n",
      "End proc 4938\n",
      "Time elpased (hh:mm:ss.ms) 0:00:00.001660\n",
      "Time elpased (hh:mm:ss.ms) 0.0018678059999999996\n",
      "End p: 4938\n",
      "<class 'multiprocessing.context.Process'>\n",
      "4957\n",
      "Process-5:2\n",
      "In Time elpased (hh:mm:ss.ms) 0:00:00.128493\n",
      "In Time elpased (hh:mm:ss.ms) 0.12847104900000003\n",
      "End proc 4957\n",
      "Time elpased (hh:mm:ss.ms) 0:00:00.001332\n",
      "Time elpased (hh:mm:ss.ms) 0.0015386410000000073\n",
      "End p: 4957\n",
      "Will join sub process\n",
      "End Main  4933\n",
      "Time elpased (hh:mm:ss.ms) 0:00:00.000764\n",
      "Time elpased (hh:mm:ss.ms) 0.0010746699999999443\n",
      "End Main p: 4933\n"
     ]
    }
   ],
   "source": [
    "def ff():\n",
    "    print(\"**************start Main***********\")\n",
    "    processes=[]\n",
    "    pid=''\n",
    "    pname=''\n",
    "    for i in range(2):\n",
    "\n",
    "        proc = multiprocessing.Process(target=ddd, args=(1000000,i))\n",
    "        processes.append(proc)\n",
    "\n",
    "    \n",
    "    for p in processes:\n",
    "        print(type(p))\n",
    "        \n",
    "       \n",
    "        p.start()\n",
    "        pid=p.pid\n",
    "        print(pid)\n",
    "        pname=p.name\n",
    "        print(pname)\n",
    "        while 1:\n",
    "            startTime= datetime.now() \n",
    "            start = time.process_time()\n",
    "            if p.exitcode != None:\n",
    "                print(\"End proc\",p.pid)\n",
    "                \n",
    "                timeElapsed=datetime.now()-startTime \n",
    "                elapsed = (time.process_time() - start)\n",
    "                print('Time elpased (hh:mm:ss.ms) {}'.format(timeElapsed))\n",
    "                print('Time elpased (hh:mm:ss.ms) {}'.format(elapsed))\n",
    "                print ('End p:',pid)\n",
    "                break\n",
    "            \n",
    "        \n",
    "\n",
    "    # Exit the completed processes\n",
    "    print(\"Will join sub process\")\n",
    "    for p in processes:\n",
    "        p.join()    \n",
    "        \n",
    "p_main=''\n",
    "pmain = multiprocessing.Process(target=ff)\n",
    "pmain.start()\n",
    "p_main=pmain.pid\n",
    "pmain.join()\n",
    "\n",
    "while 1:\n",
    "    startTime= datetime.now() \n",
    "    start = time.process_time()\n",
    "    if pmain.exitcode != None:\n",
    "        print(\"End Main \",p_main)\n",
    "        \n",
    "        timeElapsed=datetime.now()-startTime \n",
    "        elapsed = (time.process_time() - start)\n",
    "        print('Time elpased (hh:mm:ss.ms) {}'.format(timeElapsed))\n",
    "        print('Time elpased (hh:mm:ss.ms) {}'.format(elapsed))\n",
    "        print ('End Main p:',p_main)\n",
    "        break\n",
    "            \n"
   ]
  },
  {
   "cell_type": "code",
   "execution_count": null,
   "metadata": {
    "collapsed": true
   },
   "outputs": [],
   "source": [
    "'''from datetime import datetime \n",
    "startTime= datetime.now() \n",
    "start = time.process_time()\n",
    "# INSERT YOUR CODE \n",
    "for i in range(12220000):\n",
    "    i*i\n",
    "    \n",
    "timeElapsed=datetime.now()-startTime \n",
    "elapsed = (time.process_time() - start)\n",
    "print('Time elpased (hh:mm:ss.ms) {}'.format(timeElapsed))\n",
    "print('Time elpased (hh:mm:ss.ms) {}'.format(elapsed))'''"
   ]
  }
 ],
 "metadata": {
  "kernelspec": {
   "display_name": "Python 3",
   "language": "python",
   "name": "python3"
  },
  "language_info": {
   "codemirror_mode": {
    "name": "ipython",
    "version": 3
   },
   "file_extension": ".py",
   "mimetype": "text/x-python",
   "name": "python",
   "nbconvert_exporter": "python",
   "pygments_lexer": "ipython3",
   "version": "3.6.3"
  }
 },
 "nbformat": 4,
 "nbformat_minor": 2
}
