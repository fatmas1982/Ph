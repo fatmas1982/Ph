{
 "cells": [
  {
   "cell_type": "code",
   "execution_count": null,
   "metadata": {
    "collapsed": true
   },
   "outputs": [],
   "source": [
    "#! /usr/bin/python3.5"
   ]
  },
  {
   "cell_type": "code",
   "execution_count": null,
   "metadata": {
    "collapsed": false
   },
   "outputs": [],
   "source": [
    "import os\n",
    "dir_path = os.path.dirname(os.path.realpath(__file__))\n",
    "\n",
    "path_data_source=dir_path+\"/data/database/csv/\"\n",
    "\n",
    "#sub_path_data_source=\"demo_onefile/\"\n",
    "\n",
    "sub_path_data_source=\"sub_word_tf/\"\n",
    "#sub_path_data_source=\"small/\"\n",
    "\n",
    "file_path=path_data_source+sub_path_data_source\n",
    "\n",
    "file_names = [os.path.join(file_path, f) \n",
    "                      for f in os.listdir(file_path) \n",
    "                      if f.endswith(\".csv\")]\n",
    "\n",
    "#sub_path_data_source=\"demo/\"\n",
    "\n",
    "\n"
   ]
  },
  {
   "cell_type": "code",
   "execution_count": 295,
   "metadata": {
    "collapsed": true
   },
   "outputs": [],
   "source": [
    "#convert list to dic has value 1\n",
    "def list_to_dict_one(my_list):\n",
    "    my_dict = {k: 1 for k in my_list} \n",
    "    return my_dict"
   ]
  },
  {
   "cell_type": "code",
   "execution_count": 296,
   "metadata": {
    "collapsed": false
   },
   "outputs": [],
   "source": [
    "#my_dict['dd']=my_dict['dd']+2 #add value to item in dic"
   ]
  },
  {
   "cell_type": "code",
   "execution_count": 297,
   "metadata": {
    "collapsed": false
   },
   "outputs": [],
   "source": [
    "#my_dict=list_to_dict_one(['dd',1,1,2,56,4])"
   ]
  },
  {
   "cell_type": "code",
   "execution_count": 298,
   "metadata": {
    "collapsed": false
   },
   "outputs": [],
   "source": [
    "\n",
    "def csv_to_list(file):\n",
    "    import csv\n",
    "    with open(file, 'r') as f:\n",
    "        reader = csv.reader(f)\n",
    "        csv_list = list(reader)\n",
    "        #print (csv_list)\n",
    "        return csv_list\n"
   ]
  },
  {
   "cell_type": "code",
   "execution_count": 299,
   "metadata": {
    "collapsed": false
   },
   "outputs": [
    {
     "data": {
      "text/plain": [
       "[[],\n",
       " ['Name', '2'],\n",
       " ['Age', '5'],\n",
       " ['Class', '2'],\n",
       " ['Name', '2'],\n",
       " ['Age', '5'],\n",
       " ['Class', '2'],\n",
       " ['Name', 'Age', 'Class'],\n",
       " ['2', '5', '2'],\n",
       " ['Name', '2'],\n",
       " ['Age', '5'],\n",
       " ['Class', '2']]"
      ]
     },
     "execution_count": 299,
     "metadata": {},
     "output_type": "execute_result"
    }
   ],
   "source": [
    "#csv_to_list('/home/fsg/Desktop/name.csv')"
   ]
  },
  {
   "cell_type": "code",
   "execution_count": 300,
   "metadata": {
    "collapsed": false
   },
   "outputs": [],
   "source": [
    "def is_word_in_list(word,list_word):\n",
    "    if word in list_word:\n",
    "        return True\n",
    "    else:\n",
    "        return False\n",
    "    "
   ]
  },
  {
   "cell_type": "code",
   "execution_count": 301,
   "metadata": {
    "collapsed": false
   },
   "outputs": [
    {
     "data": {
      "text/plain": [
       "True"
      ]
     },
     "execution_count": 301,
     "metadata": {},
     "output_type": "execute_result"
    }
   ],
   "source": [
    "#is_word_in_list('Name',['Name', '2'])"
   ]
  },
  {
   "cell_type": "code",
   "execution_count": null,
   "metadata": {
    "collapsed": true
   },
   "outputs": [],
   "source": []
  },
  {
   "cell_type": "code",
   "execution_count": 1,
   "metadata": {
    "collapsed": true
   },
   "outputs": [],
   "source": [
    "'''\n",
    "merge two dictionary \n",
    "d={'a': 1, 'c': 3, 'k': 5}\n",
    "d1={'g': 1, 'c': 3, 'b': 5}\n",
    "like merge(d, d1,lambda x,y: x+1)\n",
    "{'a': 1, 'b': 5, 'c': 4, 'g': 1, 'k': 5}\n",
    "'''\n",
    "\n",
    "def merge(d1, d2, merge_fn=lambda x,y:y):\n",
    "    \"\"\"\n",
    "    Merges two dictionaries, non-destructively, combining \n",
    "    values on duplicate keys as defined by the optional merge\n",
    "    function.  The default behavior replaces the values in d1\n",
    "    with corresponding values in d2.  (There is no other generally\n",
    "    applicable merge strategy, but often you'll have homogeneous \n",
    "    types in your dicts, so specifying a merge technique can be \n",
    "    valuable.)\n",
    "\n",
    "    Examples:\n",
    "\n",
    "    >>> d1\n",
    "    {'a': 1, 'c': 3, 'b': 2}\n",
    "    >>> merge(d1, d1)\n",
    "    {'a': 1, 'c': 3, 'b': 2}\n",
    "    >>> merge(d1, d1, lambda x,y: x+y)\n",
    "    {'a': 2, 'c': 6, 'b': 4}\n",
    "\n",
    "    \"\"\"\n",
    "    result = dict(d1)\n",
    "    for k,v in d2.items():\n",
    "        if k in result:\n",
    "            result[k] = merge_fn(result[k], v)\n",
    "            #print(k)\n",
    "        #else:\n",
    "            #result[k] = v\n",
    "    return result"
   ]
  },
  {
   "cell_type": "code",
   "execution_count": 70,
   "metadata": {
    "collapsed": true
   },
   "outputs": [],
   "source": [
    "d1={'a': 1, 'b': 1, 'c': 1}\n",
    "d2={'d': 1, 'c': 1, 'b': 1}\n"
   ]
  },
  {
   "cell_type": "code",
   "execution_count": 71,
   "metadata": {
    "collapsed": false
   },
   "outputs": [
    {
     "data": {
      "text/plain": [
       "{'a': 1, 'b': 2, 'c': 2}"
      ]
     },
     "execution_count": 71,
     "metadata": {},
     "output_type": "execute_result"
    }
   ],
   "source": [
    "d1=merge(d1, d2,lambda x,y:x+1)\n",
    "d1"
   ]
  },
  {
   "cell_type": "code",
   "execution_count": 72,
   "metadata": {
    "collapsed": false
   },
   "outputs": [
    {
     "data": {
      "text/plain": [
       "{'b': 2, 'c': 2, 'd': 1}"
      ]
     },
     "execution_count": 72,
     "metadata": {},
     "output_type": "execute_result"
    }
   ],
   "source": [
    "d2=merge(d2, d1,lambda x,y:x+1)\n",
    "d2"
   ]
  },
  {
   "cell_type": "code",
   "execution_count": 73,
   "metadata": {
    "collapsed": true
   },
   "outputs": [],
   "source": [
    "d3={'d': 1, 'c': 1, 'f': 1}"
   ]
  },
  {
   "cell_type": "code",
   "execution_count": 74,
   "metadata": {
    "collapsed": false
   },
   "outputs": [
    {
     "data": {
      "text/plain": [
       "{'c': 2, 'd': 1, 'f': 1}"
      ]
     },
     "execution_count": 74,
     "metadata": {},
     "output_type": "execute_result"
    }
   ],
   "source": [
    "d3=merge(d3, d1,lambda x,y:x+1)\n",
    "d3"
   ]
  },
  {
   "cell_type": "code",
   "execution_count": 75,
   "metadata": {
    "collapsed": false
   },
   "outputs": [
    {
     "data": {
      "text/plain": [
       "{'a': 1, 'b': 2, 'c': 3}"
      ]
     },
     "execution_count": 75,
     "metadata": {},
     "output_type": "execute_result"
    }
   ],
   "source": [
    "d1=merge(d1, d3,lambda x,y:x+1)\n",
    "d1"
   ]
  },
  {
   "cell_type": "code",
   "execution_count": 76,
   "metadata": {
    "collapsed": false
   },
   "outputs": [
    {
     "data": {
      "text/plain": [
       "{'c': 3, 'd': 1, 'f': 1}"
      ]
     },
     "execution_count": 76,
     "metadata": {},
     "output_type": "execute_result"
    }
   ],
   "source": [
    "d3=merge(d3, d1,lambda x,y:x+1)\n",
    "d3"
   ]
  },
  {
   "cell_type": "code",
   "execution_count": 81,
   "metadata": {
    "collapsed": false
   },
   "outputs": [],
   "source": [
    "#To match to file and remove redandun "
   ]
  },
  {
   "cell_type": "code",
   "execution_count": null,
   "metadata": {
    "collapsed": true
   },
   "outputs": [],
   "source": [
    "d1=merge(d1, d2,lambda x,y:x*0)\n",
    "d1"
   ]
  },
  {
   "cell_type": "code",
   "execution_count": 305,
   "metadata": {
    "collapsed": true
   },
   "outputs": [],
   "source": [
    "def match_lists(list_one,list_two):\n",
    "    dic_one=list_to_dict_one(list_one)\n",
    "    dic_two=list_to_dict_one(list_two)\n",
    "    return merge(dic_one, dic_two,lambda x,y: x+1)\n",
    "        "
   ]
  },
  {
   "cell_type": "code",
   "execution_count": 306,
   "metadata": {
    "collapsed": false
   },
   "outputs": [
    {
     "data": {
      "text/plain": [
       "{'Data': 1, 'Name': 2}"
      ]
     },
     "execution_count": 306,
     "metadata": {},
     "output_type": "execute_result"
    }
   ],
   "source": [
    "#match_lists(['Name', 'Data'],['Name', 'Firest'])"
   ]
  },
  {
   "cell_type": "code",
   "execution_count": 307,
   "metadata": {
    "collapsed": false
   },
   "outputs": [],
   "source": [
    "\n",
    "def write_cvs_by_pands(path_database,file_databbase,data_rows):\n",
    "    import csv\n",
    "    import pandas as pd\n",
    "    #csv_df=pd.DataFrame(data_rows,columns=header) \n",
    "    csv_df = pd.DataFrame.from_dict(data_rows, orient=\"index\")\n",
    "    csv_df.to_csv(path_database+file_databbase)\n"
   ]
  },
  {
   "cell_type": "code",
   "execution_count": 308,
   "metadata": {
    "collapsed": true
   },
   "outputs": [],
   "source": [
    "def name_file(full_name_path):\n",
    "    d=full_name_path.split(\"/\")\n",
    "    #print(d)\n",
    "    name=d[len(d)-1].split(\".\")\n",
    "    return name[0]"
   ]
  },
  {
   "cell_type": "code",
   "execution_count": 314,
   "metadata": {
    "collapsed": false
   },
   "outputs": [],
   "source": [
    "def match_file_files(one_file,list_files):\n",
    "    path_database=dir_path+\"/data/database/csv/\"\n",
    "    path_sub_idf=\"sub_idf/\"\n",
    "    \n",
    "    word_list_one_file=csv_to_list(one_file)\n",
    "    #print(type(word_list_one_file))\n",
    "    dict_one_word_list=list_to_dict_one(word_list_one_file[0])\n",
    "    #print(dict_one_word_list)\n",
    "   \n",
    "    for i in range(len(list_files)):  \n",
    "        \n",
    "        #print(\"***************\",i,\"******************\")\n",
    "        filename=list_files[i]\n",
    "        if one_file != filename:\n",
    "            #print(name_file(filename))\n",
    "            word_list=csv_to_list(filename)\n",
    "            dict_word_list=list_to_dict_one(word_list[0])\n",
    "            #print(dict_word_list)\n",
    "            dict_one_word_list=merge(dict_one_word_list, dict_word_list,lambda dict_one_word_list,dict_word_list:dict_one_word_list+1)\n",
    "            #print(dict_one_word_list)\n",
    "        #else:\n",
    "            #print(\"equal\")\n",
    "    write_cvs_by_pands(path_database+path_sub_idf,name_file(one_file)+'.csv',dict_one_word_list)\n",
    "    #print('\\n',merg_dict.keys())\n",
    "    return dict_one_word_list"
   ]
  },
  {
   "cell_type": "code",
   "execution_count": 315,
   "metadata": {
    "collapsed": false
   },
   "outputs": [],
   "source": [
    "'''file_list=[]\n",
    "i=1\n",
    "for i in range(7):\n",
    "    file_name='/media/fsg/74C86089C8604C04/PHD/Softwares/ph/source_code/BA/Process/TF-Process/csv/sub_tfidf/cs'+str(i)+'.csv'\n",
    "    file_list.append(file_name)\n",
    "#file_list\n",
    "'''\n"
   ]
  },
  {
   "cell_type": "code",
   "execution_count": 316,
   "metadata": {
    "collapsed": false
   },
   "outputs": [],
   "source": [
    "#merg_dict=match_file_files(file_list[0],file_list)\n"
   ]
  },
  {
   "cell_type": "code",
   "execution_count": 317,
   "metadata": {
    "collapsed": false
   },
   "outputs": [],
   "source": [
    "def match_All_files(list_files,all_list):\n",
    "    #with tf.device(gpuname):\n",
    "    for one_file in list_files:\n",
    "        match_file_files(one_file,all_list)\n",
    "\n"
   ]
  },
  {
   "cell_type": "code",
   "execution_count": 318,
   "metadata": {
    "collapsed": false
   },
   "outputs": [],
   "source": [
    "#match_All_files(file_list,file_list)"
   ]
  },
  {
   "cell_type": "code",
   "execution_count": null,
   "metadata": {
    "collapsed": true
   },
   "outputs": [],
   "source": [
    "from tensorflow.python.client import device_lib\n",
    "\n",
    "def get_available_gpus():\n",
    "    local_device_protos = device_lib.list_local_devices()\n",
    "    return [x.name for x in local_device_protos if x.device_type == 'GPU']\n",
    "    #return [x.name for x in local_device_protos]"
   ]
  },
  {
   "cell_type": "code",
   "execution_count": null,
   "metadata": {
    "collapsed": true
   },
   "outputs": [],
   "source": []
  },
  {
   "cell_type": "code",
   "execution_count": null,
   "metadata": {
    "collapsed": true
   },
   "outputs": [],
   "source": [
    "import os\n",
    "\n",
    "import tensorflow as tf\n",
    "import threading\n",
    "import timeit\n",
    "from tensorflow.python.client import timeline\n",
    "\n",
    "config = tf.ConfigProto(device_count={\"GPU\": 2,\"CPU\":1},\n",
    "                        allow_soft_placement=True,\n",
    "                        inter_op_parallelism_threads=16,\n",
    "                        intra_op_parallelism_threads=16,\n",
    "                        use_per_session_threads=True,\n",
    "                        log_device_placement=True)\n",
    "config.gpu_options.allow_growth = True\n",
    "\n",
    "\n",
    "with tf.Session(config=config) as sess:\n",
    "    sess.run(tf.global_variables_initializer())    \n",
    "    with tf.device('/gpu'):\n",
    "        start = timeit.default_timer()\n",
    "        match_All_files(file_names,file_names)\n",
    "        #Your statements here\n",
    "\n",
    "        stop = timeit.default_timer()\n",
    "\n",
    "        print (\"tttttttttttttt\",stop - start )\n"
   ]
  }
 ],
 "metadata": {
  "kernelspec": {
   "display_name": "Python 3",
   "language": "python",
   "name": "python3"
  },
  "language_info": {
   "codemirror_mode": {
    "name": "ipython",
    "version": 3
   },
   "file_extension": ".py",
   "mimetype": "text/x-python",
   "name": "python",
   "nbconvert_exporter": "python",
   "pygments_lexer": "ipython3",
   "version": "3.6.3"
  }
 },
 "nbformat": 4,
 "nbformat_minor": 2
}
