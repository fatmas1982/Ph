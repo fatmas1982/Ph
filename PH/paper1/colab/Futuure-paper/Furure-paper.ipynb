{
 "cells": [
  {
   "cell_type": "markdown",
   "metadata": {
    "colab_type": "text",
    "id": "m_coVyipHSgW"
   },
   "source": [
    "# Load All API"
   ]
  },
  {
   "cell_type": "code",
   "execution_count": 2,
   "metadata": {
    "colab": {
     "autoexec": {
      "startup": false,
      "wait_interval": 0
     },
     "base_uri": "https://localhost:8080/",
     "height": 853
    },
    "colab_type": "code",
    "executionInfo": {
     "elapsed": 17586,
     "status": "ok",
     "timestamp": 1526485367750,
     "user": {
      "displayName": "fatma gadelrab",
      "photoUrl": "https://lh3.googleusercontent.com/a/default-user=s128",
      "userId": "102652180247237451724"
     },
     "user_tz": -120
    },
    "id": "me14sBCEuffI",
    "outputId": "f2a46f69-0ec0-4113-9eef-8868ab153819"
   },
   "outputs": [
    {
     "name": "stdout",
     "output_type": "stream",
     "text": [
      "[nltk_data] Downloading package wordnet to /home/fsg/nltk_data...\n",
      "[nltk_data]   Package wordnet is already up-to-date!\n",
      "[nltk_data] Downloading package wordnet_ic to /home/fsg/nltk_data...\n",
      "[nltk_data]   Package wordnet_ic is already up-to-date!\n"
     ]
    }
   ],
   "source": [
    "import evaluation.Utils as u\n",
    "import evaluation.Reports as r\n",
    "import csv\n",
    "import text_processing as tp\n",
    "%matplotlib inline"
   ]
  },
  {
   "cell_type": "code",
   "execution_count": 3,
   "metadata": {},
   "outputs": [],
   "source": [
    "import pandas as pd"
   ]
  },
  {
   "cell_type": "code",
   "execution_count": null,
   "metadata": {},
   "outputs": [],
   "source": []
  },
  {
   "cell_type": "code",
   "execution_count": null,
   "metadata": {},
   "outputs": [],
   "source": []
  },
  {
   "cell_type": "code",
   "execution_count": null,
   "metadata": {},
   "outputs": [],
   "source": [
    "Ohsumed_count_top_topic=r.count_top_topic('deoxyadenosine_monophosphate.n.01',u.OhsumedDataset_H1,u.Ohsumed_H2,u.Ohsumed_H4,'OhsumedTopics.csv' , u.path_database,u.path_tkm,'Ohsumed') \n",
    "Ohsumed_count_top_topic"
   ]
  },
  {
   "cell_type": "code",
   "execution_count": null,
   "metadata": {},
   "outputs": [],
   "source": [
    "r.plot_reuls_topic('Ohsumed_count_top_topic',Ohsumed_count_top_topic,u.path_evaluation)"
   ]
  },
  {
   "cell_type": "code",
   "execution_count": null,
   "metadata": {},
   "outputs": [],
   "source": []
  },
  {
   "cell_type": "code",
   "execution_count": null,
   "metadata": {},
   "outputs": [],
   "source": [
    "#count_number_topic_term_forword_TKM(u.path_tkm,'BBCTopics.csv','deoxyadenosine_monophosphate.n.01')"
   ]
  },
  {
   "cell_type": "code",
   "execution_count": 22,
   "metadata": {},
   "outputs": [
    {
     "name": "stdout",
     "output_type": "stream",
     "text": [
      "H1_20_max5.index Index(['deoxyadenosine_monophosphate.n.01', 'vegetable_oil.n.01', 'trey.n.02',\n",
      "       'astatine.n.01', 'nobelium.n.01'],\n",
      "      dtype='object')\n",
      "deoxyadenosine_monophosphate.n.01    100\n",
      "vegetable_oil.n.01                   100\n",
      "trey.n.02                            100\n",
      "astatine.n.01                        100\n",
      "nobelium.n.01                        100\n",
      "dtype: int64\n",
      "H2_20_max5.index Index(['deoxyadenosine_monophosphate.n.01', 'vegetable_oil.n.01', 'trey.n.02',\n",
      "       'indium.n.01', 'helium.n.01'],\n",
      "      dtype='object')\n",
      "H4_20_max5.index Index(['deoxyadenosine_monophosphate.n.01', 'vegetable_oil.n.01', 'trey.n.02',\n",
      "       'uranium.n.01', 'indium.n.01'],\n",
      "      dtype='object')\n"
     ]
    },
    {
     "data": {
      "text/plain": [
       "(     Topic 1  Topic 2  Topic 3  Topic 4  Topic 5\n",
       " H1       100      100      100      100      100\n",
       " H2        15       16       15       15       15\n",
       " H4        13       14       13       13       14\n",
       " TKM      398      343      336      318      155,\n",
       " deoxyadenosine_monophosphate.n.01    13.523224\n",
       " vegetable_oil.n.01                    5.653045\n",
       " trey.n.02                             4.252095\n",
       " astatine.n.01                         3.507205\n",
       " nobelium.n.01                         3.507205\n",
       " Name: deoxyadenosine_monophosphate.n.01, dtype: float64,\n",
       " deoxyadenosine_monophosphate.n.01    13.523224\n",
       " vegetable_oil.n.01                    5.653045\n",
       " trey.n.02                             4.252095\n",
       " indium.n.01                           3.507205\n",
       " helium.n.01                           3.507205\n",
       " Name: deoxyadenosine_monophosphate.n.01, dtype: float64,\n",
       " deoxyadenosine_monophosphate.n.01    13.523224\n",
       " vegetable_oil.n.01                    5.653045\n",
       " trey.n.02                             4.252095\n",
       " uranium.n.01                          3.507205\n",
       " indium.n.01                           3.507205\n",
       " Name: deoxyadenosine_monophosphate.n.01, dtype: float64)"
      ]
     },
     "execution_count": 22,
     "metadata": {},
     "output_type": "execute_result"
    }
   ],
   "source": [
    "df_count_top_term_top_topic=r.count_top_term_top_topic('deoxyadenosine_monophosphate.n.01',u.ReuterDataset_H1,u.Reuter_H2,u.Reuter_H4,'ReutersTopics.csv',5,u.path_database,u.path_tkm)\n",
    "df_count_top_term_top_topic"
   ]
  },
  {
   "cell_type": "code",
   "execution_count": 23,
   "metadata": {},
   "outputs": [
    {
     "data": {
      "text/html": [
       "<div>\n",
       "<style scoped>\n",
       "    .dataframe tbody tr th:only-of-type {\n",
       "        vertical-align: middle;\n",
       "    }\n",
       "\n",
       "    .dataframe tbody tr th {\n",
       "        vertical-align: top;\n",
       "    }\n",
       "\n",
       "    .dataframe thead th {\n",
       "        text-align: right;\n",
       "    }\n",
       "</style>\n",
       "<table border=\"1\" class=\"dataframe\">\n",
       "  <thead>\n",
       "    <tr style=\"text-align: right;\">\n",
       "      <th></th>\n",
       "      <th>Topic 1</th>\n",
       "      <th>Topic 2</th>\n",
       "      <th>Topic 3</th>\n",
       "      <th>Topic 4</th>\n",
       "      <th>Topic 5</th>\n",
       "    </tr>\n",
       "  </thead>\n",
       "  <tbody>\n",
       "    <tr>\n",
       "      <th>H1</th>\n",
       "      <td>100</td>\n",
       "      <td>100</td>\n",
       "      <td>100</td>\n",
       "      <td>100</td>\n",
       "      <td>100</td>\n",
       "    </tr>\n",
       "    <tr>\n",
       "      <th>H2</th>\n",
       "      <td>15</td>\n",
       "      <td>16</td>\n",
       "      <td>15</td>\n",
       "      <td>15</td>\n",
       "      <td>15</td>\n",
       "    </tr>\n",
       "    <tr>\n",
       "      <th>H4</th>\n",
       "      <td>13</td>\n",
       "      <td>14</td>\n",
       "      <td>13</td>\n",
       "      <td>13</td>\n",
       "      <td>14</td>\n",
       "    </tr>\n",
       "    <tr>\n",
       "      <th>TKM</th>\n",
       "      <td>398</td>\n",
       "      <td>343</td>\n",
       "      <td>336</td>\n",
       "      <td>318</td>\n",
       "      <td>155</td>\n",
       "    </tr>\n",
       "  </tbody>\n",
       "</table>\n",
       "</div>"
      ],
      "text/plain": [
       "     Topic 1  Topic 2  Topic 3  Topic 4  Topic 5\n",
       "H1       100      100      100      100      100\n",
       "H2        15       16       15       15       15\n",
       "H4        13       14       13       13       14\n",
       "TKM      398      343      336      318      155"
      ]
     },
     "execution_count": 23,
     "metadata": {},
     "output_type": "execute_result"
    }
   ],
   "source": [
    "#r.top5_terms_per_Alltopic(u.path_database,u.Reuter_H4,u.path_evaluation)\n",
    "df_count_top_term_top_topic[0].fillna(0)"
   ]
  },
  {
   "cell_type": "code",
   "execution_count": 24,
   "metadata": {},
   "outputs": [
    {
     "data": {
      "image/png": "[encoded data removed]",
      "text/plain": [
       "<matplotlib.figure.Figure at 0x7f2b1baa9f98>"
      ]
     },
     "metadata": {},
     "output_type": "display_data"
    }
   ],
   "source": [
    "r.plot_reuls(\"Reuter_count_top_term_top_topic\",df_count_top_term_top_topic[0].fillna(0),u.path_evaluation)"
   ]
  },
  {
   "cell_type": "code",
   "execution_count": null,
   "metadata": {},
   "outputs": [],
   "source": []
  },
  {
   "cell_type": "code",
   "execution_count": null,
   "metadata": {},
   "outputs": [],
   "source": [
    "#u.clean_CSV_fortopic_Evaluation(u.path_evaluation+'ReuterAll_top5_terms_topics.csv',u.path_evaluation+'ReuterAll_top5_terms_topics.txt')"
   ]
  },
  {
   "cell_type": "code",
   "execution_count": null,
   "metadata": {},
   "outputs": [],
   "source": []
  },
  {
   "cell_type": "code",
   "execution_count": null,
   "metadata": {},
   "outputs": [],
   "source": [
    "#u.read_cvs_by_pands('/media/fsg/74C86089C8604C04/download/tkm-master/output/','Topics_20newsgroup.csv',index_col=0,header=0)"
   ]
  },
  {
   "cell_type": "code",
   "execution_count": null,
   "metadata": {},
   "outputs": [],
   "source": [
    "\n",
    "#u.tkml_topic_to_intropapilty_format('/media/fsg/74C86089C8604C04/download/tkm-master/output/Topics_Brown.csv','/media/fsg/74C86089C8604C04/download/tkm-master/output/Topics_Brown.txt')\n",
    "    #''/media/fsg/74C86089C8604C04/download/tkm-master/output/Topics_20newsgroup.txt'\n",
    "    #'/media/fsg/74C86089C8604C04/download/tkm-master/output/Topics_20newsgroup.csv'"
   ]
  },
  {
   "cell_type": "code",
   "execution_count": null,
   "metadata": {},
   "outputs": [],
   "source": [
    "#import pandas as pd\n",
    "#import json\n",
    "\n",
    "#with open('/media/fsg/74C86089C8604C04/download/reviews_Books_5.json', 'r') as f:\n",
    "#    reviews = f.readlines()"
   ]
  },
  {
   "cell_type": "code",
   "execution_count": null,
   "metadata": {},
   "outputs": [],
   "source": [
    "#reviews[0:5]"
   ]
  },
  {
   "cell_type": "code",
   "execution_count": null,
   "metadata": {},
   "outputs": [],
   "source": [
    "#data = [json.loads(item.strip('\\n')) for item in reviews]"
   ]
  },
  {
   "cell_type": "markdown",
   "metadata": {
    "collapsed": true
   },
   "source": [
    "# Reports "
   ]
  },
  {
   "cell_type": "code",
   "execution_count": null,
   "metadata": {},
   "outputs": [],
   "source": []
  },
  {
   "cell_type": "code",
   "execution_count": null,
   "metadata": {},
   "outputs": [],
   "source": []
  },
  {
   "cell_type": "markdown",
   "metadata": {},
   "source": [
    "# Document"
   ]
  },
  {
   "cell_type": "code",
   "execution_count": null,
   "metadata": {},
   "outputs": [],
   "source": [
    "def top_doc_top_topic(keyword,H_df,W_df,top_topic,top_term,path_database,report_topic_term):\n",
    "    H4_20=read_cvs_by_pands(path_database,H_df,index_col=0,header=0)\n",
    "    H4_20_max5=H4_20.loc[keyword].sort_values(ascending=False)[:top_topic]\n",
    "    df_H4_20_max5 = pd.DataFrame(H4_20_max5)#\n",
    "    df_H4_20_max5\n",
    "    d={}\n",
    "    for i in range(len(df_H4_20_max5.index)):\n",
    "\n",
    "        list_topic_word=read_cvs_by_pands(path_database,W_df,index_col=0,header=0)[df_H4_20_max5.index[i]].sort_values(ascending=False)[:top_term]\n",
    "        #pd.DataFrame(df)\n",
    "        d[df_H4_20_max5.index[i]]=list_topic_word.index\n",
    "    #print(d)\n",
    "    final_df=pd.DataFrame(d,columns=df_H4_20_max5.index)\n",
    "    final_df.to_csv(path_database+report_topic_term)\n",
    "    return final_df"
   ]
  },
  {
   "cell_type": "code",
   "execution_count": null,
   "metadata": {},
   "outputs": [],
   "source": [
    "top_doc_top_topic('microphone.n.01', 'H4_news_group_n.csv' ,'W4_news_group_n.csv',5, 10, path_database, 'microphone_H4_doc_news_group_5_10.csv')"
   ]
  },
  {
   "cell_type": "code",
   "execution_count": null,
   "metadata": {},
   "outputs": [],
   "source": [
    "top_doc_top_topic('microphone.n.01', 'H_20_Siketleran.csv' ,'W_20_Siketleran.csv',5, 10, path_database, 'microphone_H_doc_20_Siketleran_5_10.csv')"
   ]
  },
  {
   "cell_type": "code",
   "execution_count": null,
   "metadata": {},
   "outputs": [],
   "source": [
    "top_doc_top_topic(\"'\"+'april.n.01'+\"'\", 'H_reuters_Siketleran.csv' ,'W_reuters_Siketleran.csv',5, 10, path_database, 'april_W_doc_Siketleran_reuters_5_10.csv')"
   ]
  },
  {
   "cell_type": "code",
   "execution_count": null,
   "metadata": {},
   "outputs": [],
   "source": [
    "top_doc_top_topic('april.n.01', 'H4_news_group_reuters_n.csv' ,'W4_news_group_reuters_n.csv',5, 10, path_database, 'april_W4_doc_news_group_reuters_5_10.csv')"
   ]
  },
  {
   "cell_type": "code",
   "execution_count": null,
   "metadata": {},
   "outputs": [],
   "source": [
    "#Intersects"
   ]
  },
  {
   "cell_type": "code",
   "execution_count": null,
   "metadata": {},
   "outputs": [],
   "source": [
    "def intersect_df(df1,df2):\n",
    "    H4_20=read_cvs_by_pands(path_database,df1,index_col=0,header=0)\n",
    "    H4_column=H4_20.columns\n",
    "    Hs_20=read_cvs_by_pands(path_database,df2,index_col=0,header=0) \n",
    "    Hs_column=Hs_20.columns\n",
    "    for i in range(5):\n",
    "        a=H4_20[H4_column[i]]\n",
    "        b=Hs_20[Hs_column[i]]\n",
    "        c=intersect(a, b)\n",
    "        print(c)\n",
    "    "
   ]
  },
  {
   "cell_type": "code",
   "execution_count": null,
   "metadata": {},
   "outputs": [],
   "source": [
    "intersect_df('microphone_H4_doc_news_group_5_10.csv','microphone_H_doc_20_Siketleran_5_10.csv')"
   ]
  },
  {
   "cell_type": "code",
   "execution_count": null,
   "metadata": {},
   "outputs": [],
   "source": [
    "def counter_conditions_tables(path_database,main_table,counting_table,counting_column_name,condition,num_after_cond):\n",
    "    df_Thresholding=read_cvs_by_pands(path_database,main_table,index_col=0,header=0)\n",
    "    if condition =='!=':\n",
    "        r=(df_Thresholding != num_after_cond).sum(axis=0)#columns\n",
    "    if condition =='==':\n",
    "        r=(df_Thresholding == num_after_cond).sum(axis=0)\n",
    "    if condition =='>=':\n",
    "        r=(df_Thresholding >= num_after_cond).sum(axis=0)\n",
    "    if condition =='<=':\n",
    "        r=(df_Thresholding <= num_after_cond).sum(axis=0)\n",
    "    if condition =='<':\n",
    "        r=(df_Thresholding < num_after_cond).sum(axis=0)\n",
    "    if condition =='>':\n",
    "        r=(df_Thresholding > num_after_cond).sum(axis=0)\n",
    "    #print(type(r))\n",
    "    df=pd.DataFrame(r,columns=[counting_column_name])\n",
    "    df.T.to_csv(path_database+counting_table)#columns=df_Thresholding.columns)\n",
    "    return df\n",
    "     \n"
   ]
  },
  {
   "cell_type": "code",
   "execution_count": null,
   "metadata": {},
   "outputs": [],
   "source": [
    "def count_top_term_top_topic(keyword,H1_df,H2_df,H4_df,H_s_df,top_topic,path_database):\n",
    "    header=['Topic 1','Topic 2','Topic 3','Topic 4','Topic 5']\n",
    "    index=['H1','H2','H4','NNDSVD']\n",
    "    rows=[]\n",
    "    H1_20=read_cvs_by_pands(path_database,H1_df,index_col=0,header=0)\n",
    "    H1_20_max=H1_20.loc[keyword].sort_values(ascending=False)\n",
    "    H1_20_max5=H1_20_max[:top_topic]  \n",
    "    print(\"H1_20_max5.index\",H1_20_max5.index)\n",
    "    r1=(H1_20[H1_20_max5.index] != 0).sum(axis=0)#columns\n",
    "    rows.append(r1.values)\n",
    "    print(r1)\n",
    "    #print(\"----------------------------\")\n",
    "    \n",
    "    H2_20=read_cvs_by_pands(path_database,H2_df,index_col=0,header=0)\n",
    "    H2_20_max=H2_20.loc[keyword].sort_values(ascending=False)\n",
    "    H2_20_max5=H2_20_max[:top_topic]   \n",
    "    print(\"H2_20_max5.index\",H2_20_max5.index)\n",
    "    r2=(H2_20[H2_20_max5.index] != 0).sum(axis=0)#columns\n",
    "    rows.append(r2.values)\n",
    "    #print(H2_20_max)\n",
    "    #print(\"----------------------------\")\n",
    "    H4_20=read_cvs_by_pands(path_database,H4_df,index_col=0,header=0)\n",
    "    H4_20_max=H4_20.loc[keyword].sort_values(ascending=False)\n",
    "    H4_20_max5=H4_20_max[:top_topic]   \n",
    "    print(\"H4_20_max5.index\",H4_20_max5.index)\n",
    "    r4=(H4_20[H4_20_max5.index] != 0).sum(axis=0)#columns\n",
    "    rows.append(r4.values)\n",
    "    #print(H4_20_max)\n",
    "    #print(\"----------------------------\")\n",
    "    H_s_20=read_cvs_by_pands(path_database,H_s_df,index_col=0,header=0)\n",
    "    H_s_20_max5=H_s_20.loc[keyword].sort_values(ascending=False)[:top_topic]   \n",
    "    r_s=(H_s_20[H_s_20_max5.index] != 0).sum(axis=0)#columns\n",
    "    print(\"H_s_20_max5.index\",H_s_20_max5.index)\n",
    "    rows.append(r_s.values)\n",
    "    #print(H_s_20_max5.index)\n",
    "    #rows.append(r_s.valuse())\n",
    "   \n",
    "    df = pd.DataFrame(rows,columns=header,index=index)#\n",
    "    return df,H1_20_max5,H2_20_max5,H4_20_max5#r#H4_20[H4_20_max5.index]"
   ]
  },
  {
   "cell_type": "code",
   "execution_count": null,
   "metadata": {},
   "outputs": [],
   "source": [
    "def plot_reuls_topic(jobname,dataset):#,cpu_cs,cpu_spliit,gpu_cs,gpu_split):\n",
    "\n",
    "    import numpy as np\n",
    "    import matplotlib.pyplot as plt\n",
    "    %matplotlib inline \n",
    "    # data to plot\n",
    "    n_groups = 1\n",
    "    job_name=jobname\n",
    "    job_path=job_name+'/'\n",
    "   \n",
    "    F1 =dataset['H1'].values\n",
    "    print(tuple(F1))\n",
    "    F2 =dataset['H2'].values\n",
    "    F3 =dataset['H4'].values\n",
    "    F4 =dataset['NNDSVD'].values\n",
    "    \n",
    "\n",
    "    # create plot\n",
    "    fig, ax = plt.subplots()\n",
    "    index = np.arange(n_groups)\n",
    "    bar_width = 0.1\n",
    "    opacity = 1\n",
    "    patterns = [ \"/\" , \"\\\\\" , \"|\" , \"-\" , \"+\" , \"x\", \"o\", \"O\", \".\", \"*\" ]\n",
    "\n",
    "    rects_F1 = plt.bar(index, F1, bar_width,\n",
    "                     alpha=opacity,\n",
    "                     color='W',\n",
    "                     label='H1',edgecolor='black', hatch=patterns[3])\n",
    "\n",
    "    rects_F2 = plt.bar(.1+index + bar_width, F2, bar_width,\n",
    "                     alpha=opacity,\n",
    "                     color='W',\n",
    "                     label='H2',edgecolor='black', hatch=patterns[5])\n",
    "\n",
    "    rects_F3 = plt.bar(.1+index + bar_width*2+.1, F3, bar_width,\n",
    "                     alpha=opacity,\n",
    "                     color='W',\n",
    "                     label='H4',edgecolor='black', hatch=patterns[9])\n",
    "    \n",
    "    rects_F4 = plt.bar(.1+index + bar_width*2+.3, F4, bar_width,\n",
    "                     alpha=opacity,\n",
    "                     color='W',\n",
    "                     label='NNDSVD',edgecolor='black', hatch=patterns[1])\n",
    "\n",
    "\n",
    "    plt.xlabel('Methods')\n",
    "    plt.ylabel('Topics Number Not Equal Zero')\n",
    "    plt.title(\" \")\n",
    "    plt.xticks([index,index+.2,index+.4,index+.6] , ('H1', 'H 2', 'H 4','NNDSVD'))#,rotation=90)\n",
    "    plt.legend(loc='upper center', bbox_to_anchor=(1.15, 1), shadow=True, ncol=1)\n",
    "    \n",
    "\n",
    "    plt.tight_layout()\n",
    "    autolabel(rects_F1,ax)\n",
    "    autolabel(rects_F2,ax)\n",
    "    autolabel(rects_F3,ax)\n",
    "    autolabel(rects_F4,ax)\n",
    "\n",
    "    #plt.show()\n",
    "    plt.savefig(path_database+job_name+'.png', dpi=1200, format='png', bbox_inches='tight') \n",
    "    # use format='svg' or 'pdf' for vectorial pictures\n"
   ]
  },
  {
   "cell_type": "code",
   "execution_count": null,
   "metadata": {},
   "outputs": [],
   "source": []
  },
  {
   "cell_type": "code",
   "execution_count": null,
   "metadata": {},
   "outputs": [],
   "source": [
    "df_20_count_top_topic=count_top_topic('microphone.n.01', 'H1_news_group_n.csv','H2_news_group_n.csv','H4_news_group_n.csv','H_20_Siketleran.csv' ,5, path_database) \n",
    "df_20_count_top_topic"
   ]
  },
  {
   "cell_type": "code",
   "execution_count": null,
   "metadata": {},
   "outputs": [],
   "source": [
    "plot_reuls_topic(\"microphone_top_topic_non_zero\",df_20_count_top_topic)"
   ]
  },
  {
   "cell_type": "code",
   "execution_count": null,
   "metadata": {},
   "outputs": [],
   "source": [
    "df_r_count_top_topic=count_top_topic('april.n.01', 'H1_news_group_reuters_n.csv','H2_news_group_reuters_n.csv','H4_news_group_reuters_n.csv','H_reuters_Siketleran.csv' ,5, path_database) \n",
    "df_r_count_top_topic\n"
   ]
  },
  {
   "cell_type": "code",
   "execution_count": null,
   "metadata": {},
   "outputs": [],
   "source": [
    "plot_reuls_topic(\"april_top_topic_non_zero\",df_r_count_top_topic)"
   ]
  },
  {
   "cell_type": "code",
   "execution_count": null,
   "metadata": {},
   "outputs": [],
   "source": [
    "def plot_reuls(jobname,dataset):#,cpu_cs,cpu_spliit,gpu_cs,gpu_split):\n",
    "\n",
    "    import numpy as np\n",
    "    import matplotlib.pyplot as plt\n",
    "    %matplotlib inline \n",
    "    # data to plot\n",
    "    n_groups = 5\n",
    "    job_name=jobname\n",
    "    job_path=job_name+'/'\n",
    "   \n",
    "    F1 =dataset.loc['H1'].values\n",
    "    #print(tuple(F1))\n",
    "    F2 =dataset.loc['H2'].values\n",
    "    F3 =dataset.loc['H4'].values\n",
    "    F4 =dataset.loc['NNDSVD'].values\n",
    "    \n",
    "\n",
    "    # create plot\n",
    "    fig, ax = plt.subplots()\n",
    "    index = np.arange(n_groups)\n",
    "    bar_width = 0.1\n",
    "    opacity = 1\n",
    "    patterns = [ \"/\" , \"\\\\\" , \"|\" , \"-\" , \"+\" , \"x\", \"o\", \"O\", \".\", \"*\" ]\n",
    "\n",
    "    rects_F1 = plt.bar(index, F1, bar_width,\n",
    "                     alpha=opacity,\n",
    "                     color='W',\n",
    "                     label='H1',edgecolor='black', hatch=patterns[3])\n",
    "\n",
    "    rects_F2 = plt.bar(.1+index + bar_width, F2, bar_width,\n",
    "                     alpha=opacity,\n",
    "                     color='W',\n",
    "                     label='H2',edgecolor='black', hatch=patterns[5])\n",
    "\n",
    "    rects_F3 = plt.bar(.1+index + bar_width*2+.1, F3, bar_width,\n",
    "                     alpha=opacity,\n",
    "                     color='W',\n",
    "                     label='H4',edgecolor='black', hatch=patterns[9])\n",
    "    \n",
    "    rects_F4 = plt.bar(.1+index + bar_width*2+.3, F4, bar_width,\n",
    "                     alpha=opacity,\n",
    "                     color='W',\n",
    "                     label='NNDSVD',edgecolor='black', hatch=patterns[1])\n",
    "\n",
    "\n",
    "    plt.xlabel('Topics')\n",
    "    plt.ylabel('Number of Terms Not Equal Zero')\n",
    "    plt.title(\" \")\n",
    "    plt.xticks(index + bar_width, ('Topic 1', 'Topic 2', 'Topic 3','Topic 4','Topic 5'))\n",
    "    plt.legend(loc='upper center', bbox_to_anchor=(1.15, 1), shadow=True, ncol=1)#frameon=False, loc='best', ncol=1)\n",
    "    \n",
    "\n",
    "    plt.tight_layout()\n",
    "    autolabel(rects_F1,ax)\n",
    "    autolabel(rects_F2,ax)\n",
    "    autolabel(rects_F3,ax)\n",
    "    autolabel(rects_F4,ax)\n",
    "\n",
    "    #plt.show()\n",
    "    plt.savefig(path_database+job_name+'.png', dpi=1200, format='png', bbox_inches='tight') \n",
    "    # use format='svg' or 'pdf' for vectorial pictures\n"
   ]
  },
  {
   "cell_type": "code",
   "execution_count": null,
   "metadata": {},
   "outputs": [],
   "source": [
    "df=count_top_term_top_topic('microphone.n.01', 'H1_news_group_n.csv','H2_news_group_n.csv','H4_news_group_n.csv','H_20_Siketleran.csv' ,5, path_database) \n",
    "plot_reuls(\"microphone_top_topic_term\",df[0])\n",
    "#df.loc['H1'].values"
   ]
  },
  {
   "cell_type": "code",
   "execution_count": null,
   "metadata": {},
   "outputs": [],
   "source": [
    "df[3]"
   ]
  },
  {
   "cell_type": "code",
   "execution_count": null,
   "metadata": {},
   "outputs": [],
   "source": [
    "df2=count_top_term_top_topic('april.n.01', 'H1_news_group_reuters_n.csv','H2_news_group_reuters_n.csv','H4_news_group_reuters_n.csv','H_reuters_Siketleran.csv' ,5, path_database) \n",
    "plot_reuls(\"april_top_topic_term\",df2[0])"
   ]
  },
  {
   "cell_type": "code",
   "execution_count": null,
   "metadata": {},
   "outputs": [],
   "source": [
    "def plot_reuls_docs(jobname,dataset):#,cpu_cs,cpu_spliit,gpu_cs,gpu_split):\n",
    "\n",
    "    import numpy as np\n",
    "    import matplotlib.pyplot as plt\n",
    "    %matplotlib inline \n",
    "    # data to plot\n",
    "    n_groups = 5\n",
    "    job_name=jobname\n",
    "    job_path=job_name+'/'\n",
    "   \n",
    "    F1 =dataset.loc['W1'].values\n",
    "    #print(tuple(F1))\n",
    "    F2 =dataset.loc['W2'].values\n",
    "    F3 =dataset.loc['W4'].values\n",
    "    F4 =dataset.loc['NNDSVD'].values\n",
    "    \n",
    "\n",
    "    # create plot\n",
    "    fig, ax = plt.subplots()\n",
    "    index = np.arange(n_groups)\n",
    "    bar_width = 0.1\n",
    "    opacity = 1\n",
    "    patterns = [ \"/\" , \"\\\\\" , \"|\" , \"-\" , \"+\" , \"x\", \"o\", \"O\", \".\", \"*\" ]\n",
    "\n",
    "    rects_F1 = plt.bar(index, F1, bar_width,\n",
    "                     alpha=opacity,\n",
    "                     color='W',\n",
    "                     label='H1',edgecolor='black', hatch=patterns[3])\n",
    "\n",
    "    rects_F2 = plt.bar(.1+index + bar_width, F2, bar_width,\n",
    "                     alpha=opacity,\n",
    "                     color='W',\n",
    "                     label='H2',edgecolor='black', hatch=patterns[5])\n",
    "\n",
    "    rects_F3 = plt.bar(.1+index + bar_width*2+.1, F3, bar_width,\n",
    "                     alpha=opacity,\n",
    "                     color='W',\n",
    "                     label='H4',edgecolor='black', hatch=patterns[9])\n",
    "    \n",
    "    rects_F4 = plt.bar(.1+index + bar_width*2+.3, F4, bar_width,\n",
    "                     alpha=opacity,\n",
    "                     color='W',\n",
    "                     label='NNDSVD',edgecolor='black', hatch=patterns[1])\n",
    "\n",
    "\n",
    "    plt.xlabel('Topics')\n",
    "    plt.ylabel('Number of Terms Not Equal Zero')\n",
    "    plt.title(\" \")\n",
    "    plt.xticks(index + bar_width, ('Topic 1', 'Topic 2', 'Topic 3','Topic 4','Topic 5'))\n",
    "    plt.legend(loc='upper center', bbox_to_anchor=(1.15, 1), shadow=True, ncol=1)#frameon=False, loc='best', ncol=1)\n",
    "    \n",
    "\n",
    "    plt.tight_layout()\n",
    "    autolabel(rects_F1,ax)\n",
    "    autolabel(rects_F2,ax)\n",
    "    autolabel(rects_F3,ax)\n",
    "    autolabel(rects_F4,ax)\n",
    "\n",
    "    #plt.show()\n",
    "    plt.savefig(path_database+job_name+'.png', dpi=1200, format='png', bbox_inches='tight') \n",
    "    # use format='svg' or 'pdf' for vectorial pictures\n"
   ]
  },
  {
   "cell_type": "code",
   "execution_count": null,
   "metadata": {},
   "outputs": [],
   "source": [
    "def count_top_doc_topic(keyword,H1_df,W1_df,H2_df,W2_df,H4_df,W4_df,H_s_df,W_s_df,top_topic,path_database):\n",
    "    index=['Topic 1','Topic 2','Topic 3','Topic 4','Topic 5']\n",
    "    header=['W1','W2','W4','NNDSVD']\n",
    "    rows=[]\n",
    "    \n",
    "    H1_20=read_cvs_by_pands(path_database,H1_df,index_col=0,header=0)\n",
    "    H1_20_max5=H1_20.loc[keyword].sort_values(ascending=False)[:top_topic]\n",
    "    print(\"H1_20_max5.index\",H1_20_max5.index)\n",
    "    W1_20=read_cvs_by_pands(path_database,W1_df,index_col=0,header=0)[H1_20_max5.index]\n",
    "       \n",
    "    #df_H1=pd.DataFrame(H1_20_max)\n",
    "    r1=(W1_20 != 0).sum(axis=0)#columns\n",
    "    #print(r1)\n",
    "    rows.append(r1.values)#[0])\n",
    "    \n",
    "    \n",
    "    H2_20=read_cvs_by_pands(path_database,H2_df,index_col=0,header=0)\n",
    "    H2_20_max5=H2_20.loc[keyword].sort_values(ascending=False)[:top_topic]\n",
    "    print(\"H2_20_max5.index\",H2_20_max5.index)\n",
    "    W2_20=read_cvs_by_pands(path_database,W2_df,index_col=0,header=0)[H2_20_max5.index]\n",
    "        \n",
    "    #df_H2=pd.DataFrame(H2_20_max)\n",
    "    r2=(W2_20 != 0).sum(axis=0)#columns\n",
    "    #print(r2)\n",
    "    rows.append(r2.values)#[0])\n",
    "    \n",
    "    H4_20=read_cvs_by_pands(path_database,H4_df,index_col=0,header=0)\n",
    "    H4_20_max5=H4_20.loc[keyword].sort_values(ascending=False)[:top_topic]\n",
    "    print(\"H4_20_max5.index\",H4_20_max5.index)\n",
    "    W4_20=read_cvs_by_pands(path_database,W4_df,index_col=0,header=0)[H4_20_max5.index]\n",
    "    \n",
    "    #df_H4=pd.DataFrame(H4_20_max)\n",
    "    r4=(W4_20 != 0).sum(axis=0)#columns\n",
    "    #print(r4)\n",
    "    rows.append(r4.values)#[0])\n",
    "    \n",
    "    H_s_20=read_cvs_by_pands(path_database,H_s_df,index_col=0,header=0)\n",
    "    H_s_20_max5=H_s_20.loc[keyword].sort_values(ascending=False)[:top_topic]\n",
    "    W_s_20=read_cvs_by_pands(path_database,W_s_df,index_col=0,header=0)[H_s_20_max5.index]\n",
    "    #df_H_s=pd.DataFrame(H_s_20_max)\n",
    "    print(\"H_s_20_max5.index\",H_s_20_max5.index)\n",
    "    r_s=(W_s_20 != 0).sum(axis=0)#columns\n",
    "    #print(r_s)\n",
    "    rows.append(r_s.values)#[0])\n",
    "    \n",
    "    #rows=[]\n",
    "    #rows.append(row)\n",
    "    print(rows)\n",
    "    df = pd.DataFrame(rows,columns=index,index=header)#'''\n",
    "    return df,W1_20,W2_20,W4_20#r#H4_20[H4_20_max5.index]"
   ]
  },
  {
   "cell_type": "code",
   "execution_count": null,
   "metadata": {},
   "outputs": [],
   "source": [
    "df_20_doc=count_top_doc_topic('microphone.n.01', \n",
    "                              'H1_news_group_n.csv',\n",
    "                              'W1_news_group_n.csv',\n",
    "                              'H2_news_group_n.csv',\n",
    "                              'W2_news_group_n.csv',\n",
    "                              'H4_news_group_n.csv',\n",
    "                              'W4_news_group_n.csv',\n",
    "                              'H_20_Siketleran.csv',\n",
    "                              'W_20_Siketleran.csv' ,\n",
    "                               5, path_database) \n",
    "df_20_doc\n",
    "plot_reuls_docs(\"microphone_top_doc\",df_20_doc[0])"
   ]
  },
  {
   "cell_type": "code",
   "execution_count": null,
   "metadata": {},
   "outputs": [],
   "source": [
    "df_20_doc=count_top_doc_topic('april.n.01', \n",
    "                              'H1_news_group_reuters_n.csv',\n",
    "                              'W1_news_group_reuters_n.csv',\n",
    "                              'H2_news_group_reuters_n.csv',\n",
    "                              'W2_news_group_reuters_n.csv',\n",
    "                              'H4_news_group_reuters_n.csv',\n",
    "                              'W4_news_group_reuters_n.csv',\n",
    "                              'H_reuters_Siketleran.csv',\n",
    "                              'W_reuters_Siketleran.csv' ,\n",
    "                               5, path_database) \n",
    "df_20_doc\n",
    "plot_reuls_docs(\"april_top_doc\",df_20_doc[0])"
   ]
  },
  {
   "cell_type": "code",
   "execution_count": null,
   "metadata": {},
   "outputs": [],
   "source": [
    "df_20_doc[1]"
   ]
  },
  {
   "cell_type": "code",
   "execution_count": null,
   "metadata": {},
   "outputs": [],
   "source": [
    "df_20_doc[2]"
   ]
  },
  {
   "cell_type": "code",
   "execution_count": null,
   "metadata": {},
   "outputs": [],
   "source": [
    "\n"
   ]
  },
  {
   "cell_type": "code",
   "execution_count": null,
   "metadata": {},
   "outputs": [],
   "source": []
  },
  {
   "cell_type": "code",
   "execution_count": null,
   "metadata": {},
   "outputs": [],
   "source": []
  }
 ],
 "metadata": {
  "colab": {
   "collapsed_sections": [
    "VAgZQlckK9wd",
    "_6BmvqLFLazK",
    "Iu4dgfNRLfkw",
    "fTKOLYu3L0Ez",
    "8NfaNVAwMFMu",
    "OQuKzaqfMkq5",
    "Rr1aiMlKOiRf"
   ],
   "default_view": {},
   "name": "Copy of fetch_20newsgroups5.ipynb",
   "provenance": [
    {
     "file_id": "1MktIuU-aj9_CXGF-ov4ZgZaHKSQWtMiL",
     "timestamp": 1526482079292
    },
    {
     "file_id": "1GfCDNWkQz2pZxF7ztBO-Tz7HR_LghPYe",
     "timestamp": 1526479601919
    },
    {
     "file_id": "10VBINZ27MFxyBBAqxwkFpKjUoEoV8MK1",
     "timestamp": 1526479187904
    },
    {
     "file_id": "1_2XJwVjkwDfkvayVDabprDgkp20uWYz3",
     "timestamp": 1526301279255
    },
    {
     "file_id": "1wiOwA7CLIFan4xLbwwumI9sBtGybeb2g",
     "timestamp": 1525893605212
    },
    {
     "file_id": "1frcrIc6rccTVc-_Gb5aK0TsulikX8nj4",
     "timestamp": 1525889348200
    },
    {
     "file_id": "1F67ivdIHjZFsUCP3VxOUKAKLviV7wl1m",
     "timestamp": 1525461837808
    }
   ],
   "version": "0.3.2",
   "views": {}
  },
  "kernelspec": {
   "display_name": "Python 3",
   "language": "python",
   "name": "python3"
  },
  "language_info": {
   "codemirror_mode": {
    "name": "ipython",
    "version": 3
   },
   "file_extension": ".py",
   "mimetype": "text/x-python",
   "name": "python",
   "nbconvert_exporter": "python",
   "pygments_lexer": "ipython3",
   "version": "3.6.3"
  }
 },
 "nbformat": 4,
 "nbformat_minor": 1
}
