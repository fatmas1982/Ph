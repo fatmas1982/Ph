{
 "cells": [
  {
   "cell_type": "code",
   "execution_count": 1,
   "metadata": {
    "collapsed": true
   },
   "outputs": [],
   "source": [
    "import os\n",
    "\n",
    "import sys\n",
    "import pandas as pd\n",
    "import datetime\n",
    "import csv"
   ]
  },
  {
   "cell_type": "code",
   "execution_count": 34,
   "metadata": {
    "collapsed": false
   },
   "outputs": [],
   "source": [
    "path_results=\"/media/fsg/74C86089C8604C04/PHD/Softwares/ph/results_csv/results_csv/\"\n",
    "full_destenation=\"/media/fsg/74C86089C8604C04/PHD/Softwares/ph/results_csv/full_destenation/\"\n",
    "destenation=\"/media/fsg/74C86089C8604C04/PHD/Softwares/ph/results_csv/destenation/\"\n",
    "destenation_comma=\"/media/fsg/74C86089C8604C04/PHD/Softwares/ph/results_csv/destenation_comma/\"\n",
    "small_set=\"/media/fsg/74C86089C8604C04/PHD/Softwares/ph/results_csv/small_set/\"\n",
    "small_set_time_int=\"/media/fsg/74C86089C8604C04/PHD/Softwares/ph/results_csv/small_set_time_int/\"\n",
    "small_set_sort=\"/media/fsg/74C86089C8604C04/PHD/Softwares/ph/results_csv/sorted/\"\n",
    "file_names = [os.path.join(path_results, f) \n",
    "                      for f in os.listdir(path_results) \n",
    "                      if f.endswith(\".csv\")]\n",
    "\n",
    "\n",
    "#print(len(file_names))"
   ]
  },
  {
   "cell_type": "code",
   "execution_count": 3,
   "metadata": {
    "collapsed": true
   },
   "outputs": [],
   "source": [
    "def full_name_file(full_name_path):#like cs.csv\n",
    "    d=full_name_path.split(\"/\")\n",
    "    ##print(d)\n",
    "    name=d[len(d)-1]#.split(\".\")\n",
    "    return name"
   ]
  },
  {
   "cell_type": "code",
   "execution_count": null,
   "metadata": {
    "collapsed": true
   },
   "outputs": [],
   "source": []
  },
  {
   "cell_type": "code",
   "execution_count": 4,
   "metadata": {
    "collapsed": false
   },
   "outputs": [],
   "source": [
    "def read_main_to_csv(main_file,to_file):\n",
    "    f = open(main_file, \"r\") \n",
    "    alltext=f.read()\n",
    "    dd=alltext.replace(\", helwan003u1\", \"\\nhelwan003u1\")\n",
    "    #print (alltext)\n",
    "    #print(\"ddddddddddddddddddddddd\")\n",
    "    #print (dd)\n",
    "    f.close() \n",
    "    nf = open(to_file,\"w\") \n",
    "    nf.write(dd)\n",
    "    nf.close\n",
    "    #print(\"ddddddd\")"
   ]
  },
  {
   "cell_type": "code",
   "execution_count": 5,
   "metadata": {
    "collapsed": false
   },
   "outputs": [],
   "source": [
    "#read_main_to_csv(\"/home/fsg/Desktop/hh/174662.csv\",\"/home/fsg/Desktop/hh/174662.csv\")"
   ]
  },
  {
   "cell_type": "code",
   "execution_count": null,
   "metadata": {
    "collapsed": true
   },
   "outputs": [],
   "source": []
  },
  {
   "cell_type": "code",
   "execution_count": 6,
   "metadata": {
    "collapsed": true
   },
   "outputs": [],
   "source": [
    "import fileinput\n",
    "def modify_file_2(file_name,to_file):\n",
    "    f = open(file_name, \"r\") \n",
    "    alltext=f.read()\n",
    "    alltextline=alltext.split('\\n')\n",
    "    #print(\"alltextline\",len(alltextline))\n",
    "    new_text=''\n",
    "    \n",
    "    for i in range(len(alltextline)-1):\n",
    "        new_list=[]\n",
    "        split_line = alltextline[i].split(',')\n",
    "        \n",
    "        if(i>0):\n",
    "            \n",
    "            \n",
    "           \n",
    "            #print(i,\":\",len(split_line))\n",
    "            #print(i)\n",
    "            \n",
    "            #print(split_line[0])\n",
    "            #print(split_line[10],split_line[24])\n",
    "            split_line[10]=split_line[23]\n",
    "            new_text+=\" \".join(split_line[0:14])+\"\\n\"#+\" \".join(new_list_2)+\"\\n\"\n",
    "        else:\n",
    "            \n",
    "            new_text+=\" \".join(split_line[0:])+\"\\n\"\n",
    "\n",
    "    f.close()\n",
    "    #import csv\n",
    "    nf = open(to_file,\"w\") \n",
    "    nf.write(new_text)\n",
    "    nf.close\n",
    "    "
   ]
  },
  {
   "cell_type": "code",
   "execution_count": 7,
   "metadata": {
    "collapsed": false
   },
   "outputs": [],
   "source": [
    "#modify_file_2(\"/home/fsg/Desktop/hh/174662.csv\",\"/home/fsg/Desktop/hh/174662.csv\")"
   ]
  },
  {
   "cell_type": "code",
   "execution_count": 8,
   "metadata": {
    "collapsed": true
   },
   "outputs": [],
   "source": [
    "def add_row_csv(path_database,idf,list_data):\n",
    "    \n",
    "    fd = open(path_database+idf,'w')\n",
    "    fd.write(list_data)\n",
    "    fd.close()\n",
    "        "
   ]
  },
  {
   "cell_type": "code",
   "execution_count": 9,
   "metadata": {
    "collapsed": false
   },
   "outputs": [],
   "source": [
    "import fileinput\n",
    "def modify_file_3(file_name,to_file):\n",
    "    f = open(file_name, \"r\") \n",
    "    alltext=f.read()\n",
    "    alltextline=alltext.split('\\n')\n",
    "    #print(\"alltextline\",alltextline)\n",
    "    \n",
    "    main_row=\"\"\n",
    "    \n",
    "    for i in range(len(alltextline)-1):\n",
    "        row=\"\"\n",
    "        split_line = alltextline[i].split(',')\n",
    "        if i>0:\n",
    "            #print(split_line)\n",
    "            row +=split_line[1]+\",\"\n",
    "            row +=split_line[2]+\",\"\n",
    "            row +=split_line[3]+\",\"\n",
    "            row +=split_line[5]+\",\"\n",
    "            row +=split_line[7]+\",\"\n",
    "            row +=split_line[8]+\",\"\n",
    "            row +=split_line[10]\n",
    "            #print(row)\n",
    "\n",
    "            main_row +=row+\"\\n\"\n",
    "            #main_row=\" \".join(row)+\"\\n\"\n",
    "        else:\n",
    "            row +=\"JobID,JobName,Partition,Elapsed,NodeList,ReqMem,AveRSS\"\n",
    "            #print(row)\n",
    "            main_row +=row+\"\\n\"\n",
    "\n",
    "            \n",
    "        \n",
    "    f.close()\n",
    "    #print(main_row)\n",
    "    return main_row\n",
    "    \n",
    "    \n",
    "    \n",
    "    "
   ]
  },
  {
   "cell_type": "code",
   "execution_count": 10,
   "metadata": {
    "collapsed": false
   },
   "outputs": [],
   "source": [
    "#add_row_csv(small_set,\"177181.csv\",modify_file_3(destenation_comma+\"177181.csv\",small_set+\"177181.csv\"))"
   ]
  },
  {
   "cell_type": "code",
   "execution_count": 11,
   "metadata": {
    "collapsed": false
   },
   "outputs": [],
   "source": [
    "#modify_file_3(destenation_comma+\"177181.csv\",small_set+\"177181.csv\")"
   ]
  },
  {
   "cell_type": "code",
   "execution_count": 12,
   "metadata": {
    "collapsed": true
   },
   "outputs": [],
   "source": [
    "def replace_space_comma(destenation,destenation_comma,file_name):\n",
    "    \n",
    "    with open(destenation+file_name, 'r') as file :\n",
    "        filedata = file.read()\n",
    "\n",
    "    # Replace the target string\n",
    "    filedata = filedata.replace(' ', ',')\n",
    "\n",
    "    # Write the file out again\n",
    "    with open(destenation_comma+file_name, 'w') as file:\n",
    "         file.write(filedata)"
   ]
  },
  {
   "cell_type": "code",
   "execution_count": 13,
   "metadata": {
    "collapsed": true
   },
   "outputs": [],
   "source": [
    "def time_int(hhmmss):\n",
    "    \n",
    "    import datetime\n",
    "    hhmmss=hhmmss.replace('-',\":\")\n",
    "    #hhmmss = '02:29:14'\n",
    "    ff=[int(x) for x in hhmmss.split(':')]\n",
    "    ##print(len(ff))\n",
    "    if len(ff)>3:\n",
    "        \n",
    "        [days,hours, minutes, seconds] = [int(x) for x in hhmmss.split(':')]\n",
    "        xh = datetime.timedelta(hours=hours, minutes=minutes, seconds=seconds)\n",
    "        print(\"x\",xh.seconds,(52+35*60+7*60*60))\n",
    "        xd =24*days*60*60 #datetime.timedelta(hours=24*days, minutes=0, seconds=0)\n",
    "        x=xh.seconds+xd\n",
    "        print(\"x\",x)\n",
    "    else:\n",
    "        [hours, minutes, seconds] = [int(x) for x in hhmmss.split(':')]\n",
    "        xh = datetime.timedelta(hours=hours, minutes=minutes, seconds=seconds)\n",
    "        x=xh.seconds\n",
    "    return x#.seconds"
   ]
  },
  {
   "cell_type": "code",
   "execution_count": 84,
   "metadata": {
    "collapsed": false
   },
   "outputs": [
    {
     "data": {
      "text/plain": [
       "957"
      ]
     },
     "execution_count": 84,
     "metadata": {},
     "output_type": "execute_result"
    }
   ],
   "source": [
    "time_int('00:15:57')"
   ]
  },
  {
   "cell_type": "code",
   "execution_count": 15,
   "metadata": {
    "collapsed": true
   },
   "outputs": [],
   "source": [
    "def time_int_df(small_set,file_csv,small_set_time_int):\n",
    "    #print(file_csv)\n",
    "    \n",
    "    \n",
    "    articles_df = pd.read_csv(small_set+file_csv,sep=\",\")\n",
    "    articles_df['Elapsed'] = articles_df['Elapsed'].apply(time_int)\n",
    "    articles_df.to_csv(small_set_time_int+file_csv)\n",
    "    ##articles_df['dd']=time_int([articles_df['Elapsed']])"
   ]
  },
  {
   "cell_type": "code",
   "execution_count": 16,
   "metadata": {
    "collapsed": true
   },
   "outputs": [],
   "source": [
    "def sort_files(job_path):\n",
    "    small_set_time_int=\"/media/fsg/74C86089C8604C04/PHD/Softwares/ph/results_csv/small_set_time_int/\"+job_path\n",
    "    sorted_set_time_int=\"/media/fsg/74C86089C8604C04/PHD/Softwares/ph/results_csv/sorted/\"+job_path\n",
    "    \n",
    "    small_set_int = [os.path.join(small_set_time_int, f) \n",
    "                      for f in os.listdir(small_set_time_int) \n",
    "                      if f.endswith(\".csv\")]\n",
    "    print(small_set_int)\n",
    "    \n",
    "    from pandas import DataFrame\n",
    "    import pandas as pd\n",
    "    for f in small_set_int:\n",
    "        dest_file_name=full_name_file(f)\n",
    "\n",
    "        df=pd.read_csv(f,header=0,\n",
    "                       sep=',',\n",
    "                       index_col=0,)\n",
    "        \n",
    "        test = df.sort_values('JobID', ascending=1)\n",
    "        print(dest_file_name)\n",
    "        test.to_csv(sorted_set_time_int+dest_file_name)\n",
    "        #test\n",
    "        #return test"
   ]
  },
  {
   "cell_type": "code",
   "execution_count": 17,
   "metadata": {
    "collapsed": false
   },
   "outputs": [
    {
     "name": "stdout",
     "output_type": "stream",
     "text": [
      "['/media/fsg/74C86089C8604C04/PHD/Softwares/ph/results_csv/small_set_time_int/FJ-1/177181.csv', '/media/fsg/74C86089C8604C04/PHD/Softwares/ph/results_csv/small_set_time_int/FJ-1/177187.csv', '/media/fsg/74C86089C8604C04/PHD/Softwares/ph/results_csv/small_set_time_int/FJ-1/177254.csv', '/media/fsg/74C86089C8604C04/PHD/Softwares/ph/results_csv/small_set_time_int/FJ-1/177331.csv', '/media/fsg/74C86089C8604C04/PHD/Softwares/ph/results_csv/small_set_time_int/FJ-1/177331_2.csv']\n",
      "177181.csv\n",
      "177187.csv\n",
      "177254.csv\n",
      "177331.csv\n",
      "177331_2.csv\n",
      "['/media/fsg/74C86089C8604C04/PHD/Softwares/ph/results_csv/small_set_time_int/FJ-2/177196.csv', '/media/fsg/74C86089C8604C04/PHD/Softwares/ph/results_csv/small_set_time_int/FJ-2/177199.csv', '/media/fsg/74C86089C8604C04/PHD/Softwares/ph/results_csv/small_set_time_int/FJ-2/177298.csv', '/media/fsg/74C86089C8604C04/PHD/Softwares/ph/results_csv/small_set_time_int/FJ-2/177360.csv']\n",
      "177196.csv\n",
      "177199.csv\n",
      "177298.csv\n",
      "177360.csv\n",
      "['/media/fsg/74C86089C8604C04/PHD/Softwares/ph/results_csv/small_set_time_int/FJ-3/177373.csv', '/media/fsg/74C86089C8604C04/PHD/Softwares/ph/results_csv/small_set_time_int/FJ-3/177385.csv', '/media/fsg/74C86089C8604C04/PHD/Softwares/ph/results_csv/small_set_time_int/FJ-3/177391.csv', '/media/fsg/74C86089C8604C04/PHD/Softwares/ph/results_csv/small_set_time_int/FJ-3/177394.csv', '/media/fsg/74C86089C8604C04/PHD/Softwares/ph/results_csv/small_set_time_int/FJ-3/177400.csv']\n",
      "177373.csv\n",
      "177385.csv\n",
      "177391.csv\n",
      "177394.csv\n",
      "177400.csv\n",
      "['/media/fsg/74C86089C8604C04/PHD/Softwares/ph/results_csv/small_set_time_int/CJ-1/177823.csv', '/media/fsg/74C86089C8604C04/PHD/Softwares/ph/results_csv/small_set_time_int/CJ-1/177907.csv', '/media/fsg/74C86089C8604C04/PHD/Softwares/ph/results_csv/small_set_time_int/CJ-1/178103.csv', '/media/fsg/74C86089C8604C04/PHD/Softwares/ph/results_csv/small_set_time_int/CJ-1/180126.csv', '/media/fsg/74C86089C8604C04/PHD/Softwares/ph/results_csv/small_set_time_int/CJ-1/183177.csv', '/media/fsg/74C86089C8604C04/PHD/Softwares/ph/results_csv/small_set_time_int/CJ-1/183538.csv', '/media/fsg/74C86089C8604C04/PHD/Softwares/ph/results_csv/small_set_time_int/CJ-1/185182.csv', '/media/fsg/74C86089C8604C04/PHD/Softwares/ph/results_csv/small_set_time_int/CJ-1/186214.csv', '/media/fsg/74C86089C8604C04/PHD/Softwares/ph/results_csv/small_set_time_int/CJ-1/186231.csv', '/media/fsg/74C86089C8604C04/PHD/Softwares/ph/results_csv/small_set_time_int/CJ-1/188448.csv', '/media/fsg/74C86089C8604C04/PHD/Softwares/ph/results_csv/small_set_time_int/CJ-1/189153.csv', '/media/fsg/74C86089C8604C04/PHD/Softwares/ph/results_csv/small_set_time_int/CJ-1/190157.csv']\n",
      "177823.csv\n",
      "177907.csv\n",
      "178103.csv\n",
      "180126.csv\n",
      "183177.csv\n",
      "183538.csv\n",
      "185182.csv\n",
      "186214.csv\n",
      "186231.csv\n",
      "188448.csv\n",
      "189153.csv\n",
      "190157.csv\n",
      "['/media/fsg/74C86089C8604C04/PHD/Softwares/ph/results_csv/small_set_time_int/CJ-2/181006.csv', '/media/fsg/74C86089C8604C04/PHD/Softwares/ph/results_csv/small_set_time_int/CJ-2/181025.csv', '/media/fsg/74C86089C8604C04/PHD/Softwares/ph/results_csv/small_set_time_int/CJ-2/188572.csv', '/media/fsg/74C86089C8604C04/PHD/Softwares/ph/results_csv/small_set_time_int/CJ-2/190276.csv']\n",
      "181006.csv\n",
      "181025.csv\n",
      "188572.csv\n",
      "190276.csv\n",
      "['/media/fsg/74C86089C8604C04/PHD/Softwares/ph/results_csv/small_set_time_int/CJ-3/183171.csv', '/media/fsg/74C86089C8604C04/PHD/Softwares/ph/results_csv/small_set_time_int/CJ-3/183173.csv', '/media/fsg/74C86089C8604C04/PHD/Softwares/ph/results_csv/small_set_time_int/CJ-3/188575.csv', '/media/fsg/74C86089C8604C04/PHD/Softwares/ph/results_csv/small_set_time_int/CJ-3/190279.csv']\n",
      "183171.csv\n",
      "183173.csv\n",
      "188575.csv\n",
      "190279.csv\n"
     ]
    }
   ],
   "source": [
    "sort_files(\"FJ-1/\")\n",
    "sort_files(\"FJ-2/\")\n",
    "sort_files(\"FJ-3/\")\n",
    "sort_files(\"CJ-1/\")\n",
    "sort_files(\"CJ-2/\")\n",
    "sort_files(\"CJ-3/\")"
   ]
  },
  {
   "cell_type": "code",
   "execution_count": 18,
   "metadata": {
    "collapsed": true
   },
   "outputs": [],
   "source": [
    "def modefy_allfiles(file_names):\n",
    "    for file_r in file_names:\n",
    "        dest_file_name=full_name_file(file_r)\n",
    "        read_main_to_csv(file_r,full_destenation+dest_file_name)\n",
    "        \n",
    "        modify_file_2(full_destenation+dest_file_name,destenation+dest_file_name)\n",
    "        replace_space_comma(destenation,destenation_comma,dest_file_name)\n",
    "        add_row_csv(small_set,dest_file_name,modify_file_3(destenation_comma+dest_file_name,small_set+dest_file_name))\n",
    "        time_int_df(small_set,dest_file_name,small_set_time_int)"
   ]
  },
  {
   "cell_type": "code",
   "execution_count": 19,
   "metadata": {
    "collapsed": false
   },
   "outputs": [
    {
     "name": "stdout",
     "output_type": "stream",
     "text": [
      "x 27352 27352\n",
      "x 113752\n"
     ]
    }
   ],
   "source": [
    "modefy_allfiles(file_names)"
   ]
  },
  {
   "cell_type": "code",
   "execution_count": 55,
   "metadata": {
    "collapsed": false
   },
   "outputs": [],
   "source": [
    "def FJ_list(fun,pathdataset,FJ_cpu_cs,FJ_cpu_split,FJ_gpu_cs,FJ_gpu_split,i):\n",
    "    FJ_cpu_cs = pd.read_csv(pathdataset+fun+FJ_cpu_cs+'.csv',sep=\",\")['Elapsed'][i]#['177331_1']\n",
    "    print(FJ_cpu_cs)\n",
    "    FJ_cpu_split = pd.read_csv(pathdataset+fun+FJ_cpu_split+'.csv',sep=\",\")['Elapsed'][i]#['177331_1']\n",
    "    FJ_cpu_split\n",
    "    FJ_gpu_cs = pd.read_csv(pathdataset+fun+FJ_gpu_cs+'.csv',sep=\",\")['Elapsed'][i]#['177331_1']\n",
    "    FJ_gpu_cs\n",
    "    FJ_gpu_split = pd.read_csv(pathdataset+fun+FJ_gpu_split+'.csv',sep=\",\")['Elapsed'][i]#['177331_1']\n",
    "    FJ_gpu_split\n",
    "    FJ=[]\n",
    "\n",
    "    FJ.append(FJ_cpu_cs)\n",
    "    FJ.append(FJ_cpu_split)\n",
    "    FJ.append(FJ_gpu_cs)\n",
    "    FJ.append(FJ_gpu_split)\n",
    "    return tuple(FJ)"
   ]
  },
  {
   "cell_type": "code",
   "execution_count": 59,
   "metadata": {
    "collapsed": false
   },
   "outputs": [
    {
     "name": "stdout",
     "output_type": "stream",
     "text": [
      "15\n"
     ]
    },
    {
     "data": {
      "text/plain": [
       "(15, 113752, 15, 36632)"
      ]
     },
     "execution_count": 59,
     "metadata": {},
     "output_type": "execute_result"
    }
   ],
   "source": [
    "FJ_list('FJ-3/',small_set_sort,'177391','177385','177400','177373',2)"
   ]
  },
  {
   "cell_type": "code",
   "execution_count": null,
   "metadata": {
    "collapsed": false
   },
   "outputs": [],
   "source": [
    "#'177391','177385','177400','177373'"
   ]
  },
  {
   "cell_type": "code",
   "execution_count": 22,
   "metadata": {
    "collapsed": false
   },
   "outputs": [],
   "source": [
    "def autolabel(rects,ax):\n",
    "    \"\"\"\n",
    "    Attach a text label above each bar displaying its height\n",
    "    \"\"\"\n",
    "    for rect in rects:\n",
    "        height = rect.get_height()\n",
    "        ax.text(rect.get_x() + rect.get_width()/2., 3+height,\n",
    "                '%d' % int(height+.5),\n",
    "                ha='center', va='bottom')\n",
    "    "
   ]
  },
  {
   "cell_type": "code",
   "execution_count": 44,
   "metadata": {
    "collapsed": false
   },
   "outputs": [],
   "source": [
    "def list_file_job(job_path):\n",
    "    sorted_list=\"/media/fsg/74C86089C8604C04/PHD/Softwares/ph/results_csv/sorted/\"+job_path\n",
    "\n",
    "    small_set_int_j = [os.path.join(sorted_list, f) \n",
    "                          for f in os.listdir(sorted_list) \n",
    "                          if f.endswith(\".csv\")]\n",
    "    return small_set_int_j"
   ]
  },
  {
   "cell_type": "code",
   "execution_count": 45,
   "metadata": {
    "collapsed": false
   },
   "outputs": [],
   "source": [
    "def pure_job_name(job_path):\n",
    "    \n",
    "    purname_small_set_int_j=[]\n",
    "    small_set_int_j=list_file_job(job_path)\n",
    "    \n",
    "    for f in small_set_int_j:\n",
    "        dest_file_name=full_name_file(f)\n",
    "        #print(dest_file_name.split('.')[0])\n",
    "        pur=dest_file_name.split('.')[0]\n",
    "\n",
    "        purname_small_set_int_j.append(pur)\n",
    "\n",
    "\n",
    "\n",
    "    return purname_small_set_int_j"
   ]
  },
  {
   "cell_type": "code",
   "execution_count": null,
   "metadata": {
    "collapsed": false
   },
   "outputs": [],
   "source": []
  },
  {
   "cell_type": "code",
   "execution_count": 47,
   "metadata": {
    "collapsed": false
   },
   "outputs": [],
   "source": [
    "def plot_reuls(jobname,dataset,cpu_cs,cpu_spliit,gpu_cs,gpu_split):\n",
    "\n",
    "    import numpy as np\n",
    "    import matplotlib.pyplot as plt\n",
    "    %matplotlib inline \n",
    "    # data to plot\n",
    "    n_groups = 4\n",
    "    job_name=jobname\n",
    "    job_path=job_name+'/'\n",
    "   \n",
    "    F1 =FJ_list(job_path,dataset,cpu_cs,cpu_spliit,gpu_cs,gpu_split,0)   \n",
    "    F2 =FJ_list(job_path,dataset,cpu_cs,cpu_spliit,gpu_cs,gpu_split,1)\n",
    "    F3 =FJ_list(job_path,dataset,cpu_cs,cpu_spliit,gpu_cs,gpu_split,2)\n",
    "    \n",
    "\n",
    "    # create plot\n",
    "    fig, ax = plt.subplots()\n",
    "    index = np.arange(n_groups)\n",
    "    bar_width = 0.1\n",
    "    opacity = 1\n",
    "    patterns = [ \"/\" , \"\\\\\" , \"|\" , \"-\" , \"+\" , \"x\", \"o\", \"O\", \".\", \"*\" ]\n",
    "\n",
    "    rects_F1 = plt.bar(index, F1, bar_width,\n",
    "                     alpha=opacity,\n",
    "                     color='W',\n",
    "                     label='File:1',edgecolor='black', hatch=patterns[3])\n",
    "\n",
    "    rects_F2 = plt.bar(.1+index + bar_width, F2, bar_width,\n",
    "                     alpha=opacity,\n",
    "                     color='W',\n",
    "                     label='File:2',edgecolor='black', hatch=patterns[5])\n",
    "\n",
    "    rects_F3 = plt.bar(.1+index + bar_width*2+.1, F3, bar_width,\n",
    "                     alpha=opacity,\n",
    "                     color='W',\n",
    "                     label='File:3',edgecolor='black', hatch=patterns[9])\n",
    "\n",
    "\n",
    "    plt.xlabel('Processor/Dataset')\n",
    "    plt.ylabel('Time(sec)')\n",
    "    plt.title(job_name)\n",
    "    plt.xticks(index + bar_width, ('CPU_TC1', 'CPU_TC2', 'GPU_TC1','GPU_TC2'))\n",
    "    plt.legend()\n",
    "\n",
    "    plt.tight_layout()\n",
    "    autolabel(rects_F1,ax)\n",
    "    autolabel(rects_F2,ax)\n",
    "    autolabel(rects_F3,ax)\n",
    "\n",
    "    #plt.show()\n",
    "    plt.savefig(os.path.join(job_name+'.png'), dpi=300, format='png', bbox_inches='tight') \n",
    "    # use format='svg' or 'pdf' for vectorial pictures\n"
   ]
  },
  {
   "cell_type": "code",
   "execution_count": 48,
   "metadata": {
    "collapsed": false
   },
   "outputs": [
    {
     "name": "stdout",
     "output_type": "stream",
     "text": [
      "['177331', '177187', '177254', '177181']\n",
      "20\n",
      "13\n",
      "10\n"
     ]
    },
    {
     "data": {
      "image/png": "[encoded data removed]",
      "text/plain": [
       "<matplotlib.figure.Figure at 0x7f2feecb64e0>"
      ]
     },
     "metadata": {},
     "output_type": "display_data"
    }
   ],
   "source": [
    "\n",
    "purname=['177331'\n",
    ",'177187','177254','177181']#pure_job_name('FJ-1/')\n",
    "print(purname)\n",
    "plot_reuls('FJ-1',small_set_sort,purname[0],purname[1],purname[2],purname[3])"
   ]
  },
  {
   "cell_type": "code",
   "execution_count": 49,
   "metadata": {
    "collapsed": false
   },
   "outputs": [
    {
     "name": "stdout",
     "output_type": "stream",
     "text": [
      "['177360', '177196', '177298', '177199']\n",
      "51\n",
      "129\n",
      "199\n"
     ]
    },
    {
     "data": {
      "image/png": "[encoded data removed]",
      "text/plain": [
       "<matplotlib.figure.Figure at 0x7f2feee69860>"
      ]
     },
     "metadata": {},
     "output_type": "display_data"
    }
   ],
   "source": [
    "purname=['177360','177196','177298','177199']#pure_job_name('FJ-2/')\n",
    "print(purname)\n",
    "plot_reuls('FJ-2',small_set_sort,purname[0],purname[1],purname[2],purname[3])"
   ]
  },
  {
   "cell_type": "code",
   "execution_count": 60,
   "metadata": {
    "collapsed": false
   },
   "outputs": [
    {
     "name": "stdout",
     "output_type": "stream",
     "text": [
      "['177391', '177385', '177400', '177373']\n",
      "60\n",
      "14\n",
      "15\n"
     ]
    },
    {
     "data": {
      "image/png": "[encoded data removed]",
      "text/plain": [
       "<matplotlib.figure.Figure at 0x7f2feeb57400>"
      ]
     },
     "metadata": {},
     "output_type": "display_data"
    }
   ],
   "source": [
    "purname=['177391','177385','177400','177373']#pure_job_name('FJ-3/')\n",
    "print(purname)\n",
    "plot_reuls('FJ-3',small_set_sort,purname[0],purname[1],purname[2],purname[3])"
   ]
  },
  {
   "cell_type": "code",
   "execution_count": 76,
   "metadata": {
    "collapsed": false
   },
   "outputs": [
    {
     "name": "stdout",
     "output_type": "stream",
     "text": [
      "['181025', '188572', '181006', '190276']\n",
      "15\n",
      "9\n",
      "3\n"
     ]
    },
    {
     "data": {
      "image/png": "[encoded data removed]",
      "text/plain": [
       "<matplotlib.figure.Figure at 0x7f2feeeeaf28>"
      ]
     },
     "metadata": {},
     "output_type": "display_data"
    }
   ],
   "source": [
    "purname=['181025','188572','181006','190276']#pure_job_name('CJ-2/')\n",
    "print(purname)\n",
    "plot_reuls('CJ-2',small_set_sort,purname[0],purname[1],purname[2],purname[3])"
   ]
  },
  {
   "cell_type": "code",
   "execution_count": 83,
   "metadata": {
    "collapsed": false
   },
   "outputs": [
    {
     "name": "stdout",
     "output_type": "stream",
     "text": [
      "['183171', '188575', '183173', '190279']\n",
      "49\n",
      "4\n",
      "18\n"
     ]
    },
    {
     "data": {
      "image/png": "[encoded data removed]",
      "text/plain": [
       "<matplotlib.figure.Figure at 0x7f2feede69e8>"
      ]
     },
     "metadata": {},
     "output_type": "display_data"
    }
   ],
   "source": [
    "purname=['183171','188575','183173','190279']#pure_job_name('CJ-3/')\n",
    "print(purname)\n",
    "plot_reuls('CJ-3',small_set_sort,purname[0],purname[1],purname[2],purname[3])"
   ]
  },
  {
   "cell_type": "code",
   "execution_count": null,
   "metadata": {
    "collapsed": false
   },
   "outputs": [],
   "source": []
  },
  {
   "cell_type": "code",
   "execution_count": null,
   "metadata": {
    "collapsed": true
   },
   "outputs": [],
   "source": []
  },
  {
   "cell_type": "code",
   "execution_count": null,
   "metadata": {
    "collapsed": false
   },
   "outputs": [],
   "source": []
  },
  {
   "cell_type": "code",
   "execution_count": null,
   "metadata": {
    "collapsed": false
   },
   "outputs": [],
   "source": []
  },
  {
   "cell_type": "code",
   "execution_count": null,
   "metadata": {
    "collapsed": true
   },
   "outputs": [],
   "source": []
  },
  {
   "cell_type": "code",
   "execution_count": null,
   "metadata": {
    "collapsed": true
   },
   "outputs": [],
   "source": []
  }
 ],
 "metadata": {
  "kernelspec": {
   "display_name": "Python 3",
   "language": "python",
   "name": "python3"
  },
  "language_info": {
   "codemirror_mode": {
    "name": "ipython",
    "version": 3
   },
   "file_extension": ".py",
   "mimetype": "text/x-python",
   "name": "python",
   "nbconvert_exporter": "python",
   "pygments_lexer": "ipython3",
   "version": "3.6.3"
  }
 },
 "nbformat": 4,
 "nbformat_minor": 2
}
